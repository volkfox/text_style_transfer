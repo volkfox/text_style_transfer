{
  "nbformat": 4,
  "nbformat_minor": 0,
  "metadata": {
    "colab": {
      "name": "Style_Discriminator_DistilBert_masked.ipynb",
      "provenance": [],
      "collapsed_sections": [
        "sI6DKVblH_CD"
      ]
    },
    "kernelspec": {
      "name": "python3",
      "display_name": "Python 3"
    },
    "accelerator": "GPU"
  },
  "cells": [
    {
      "cell_type": "code",
      "metadata": {
        "id": "C4-fSro-v_v-",
        "colab_type": "code",
        "outputId": "782ae14a-a8c7-4efb-89e9-355f3cd6032a",
        "colab": {
          "base_uri": "https://localhost:8080/",
          "height": 921
        }
      },
      "source": [
        "# Install the required modules\n",
        "!pip install transformers\n",
        "!pip install pandas\n",
        "!pip install numpy\n",
        "!pip install tqdm\n",
        "!pip install sklearn\n",
        "\n",
        "from google.colab import drive\n",
        "drive.mount('/content/gdrive')\n",
        "\n",
        "# !nvidia-smi"
      ],
      "execution_count": 2,
      "outputs": [
        {
          "output_type": "stream",
          "text": [
            "Collecting transformers\n",
            "\u001b[?25l  Downloading https://files.pythonhosted.org/packages/70/1a/364556102943cacde1ee00fdcae3b1615b39e52649eddbf54953e5b144c9/transformers-2.2.1-py3-none-any.whl (364kB)\n",
            "\u001b[K     |████████████████████████████████| 368kB 3.3MB/s \n",
            "\u001b[?25hRequirement already satisfied: numpy in /usr/local/lib/python3.6/dist-packages (from transformers) (1.17.4)\n",
            "Requirement already satisfied: tqdm in /usr/local/lib/python3.6/dist-packages (from transformers) (4.28.1)\n",
            "Collecting sentencepiece\n",
            "\u001b[?25l  Downloading https://files.pythonhosted.org/packages/14/3d/efb655a670b98f62ec32d66954e1109f403db4d937c50d779a75b9763a29/sentencepiece-0.1.83-cp36-cp36m-manylinux1_x86_64.whl (1.0MB)\n",
            "\u001b[K     |████████████████████████████████| 1.0MB 55.9MB/s \n",
            "\u001b[?25hCollecting sacremoses\n",
            "\u001b[?25l  Downloading https://files.pythonhosted.org/packages/1f/8e/ed5364a06a9ba720fddd9820155cc57300d28f5f43a6fd7b7e817177e642/sacremoses-0.0.35.tar.gz (859kB)\n",
            "\u001b[K     |████████████████████████████████| 860kB 52.4MB/s \n",
            "\u001b[?25hRequirement already satisfied: boto3 in /usr/local/lib/python3.6/dist-packages (from transformers) (1.10.32)\n",
            "Requirement already satisfied: requests in /usr/local/lib/python3.6/dist-packages (from transformers) (2.21.0)\n",
            "Collecting regex\n",
            "\u001b[?25l  Downloading https://files.pythonhosted.org/packages/e3/8e/cbf2295643d7265e7883326fb4654e643bfc93b3a8a8274d8010a39d8804/regex-2019.11.1-cp36-cp36m-manylinux1_x86_64.whl (643kB)\n",
            "\u001b[K     |████████████████████████████████| 645kB 50.0MB/s \n",
            "\u001b[?25hRequirement already satisfied: six in /usr/local/lib/python3.6/dist-packages (from sacremoses->transformers) (1.12.0)\n",
            "Requirement already satisfied: click in /usr/local/lib/python3.6/dist-packages (from sacremoses->transformers) (7.0)\n",
            "Requirement already satisfied: joblib in /usr/local/lib/python3.6/dist-packages (from sacremoses->transformers) (0.14.0)\n",
            "Requirement already satisfied: s3transfer<0.3.0,>=0.2.0 in /usr/local/lib/python3.6/dist-packages (from boto3->transformers) (0.2.1)\n",
            "Requirement already satisfied: botocore<1.14.0,>=1.13.32 in /usr/local/lib/python3.6/dist-packages (from boto3->transformers) (1.13.32)\n",
            "Requirement already satisfied: jmespath<1.0.0,>=0.7.1 in /usr/local/lib/python3.6/dist-packages (from boto3->transformers) (0.9.4)\n",
            "Requirement already satisfied: idna<2.9,>=2.5 in /usr/local/lib/python3.6/dist-packages (from requests->transformers) (2.8)\n",
            "Requirement already satisfied: urllib3<1.25,>=1.21.1 in /usr/local/lib/python3.6/dist-packages (from requests->transformers) (1.24.3)\n",
            "Requirement already satisfied: certifi>=2017.4.17 in /usr/local/lib/python3.6/dist-packages (from requests->transformers) (2019.11.28)\n",
            "Requirement already satisfied: chardet<3.1.0,>=3.0.2 in /usr/local/lib/python3.6/dist-packages (from requests->transformers) (3.0.4)\n",
            "Requirement already satisfied: python-dateutil<2.8.1,>=2.1; python_version >= \"2.7\" in /usr/local/lib/python3.6/dist-packages (from botocore<1.14.0,>=1.13.32->boto3->transformers) (2.6.1)\n",
            "Requirement already satisfied: docutils<0.16,>=0.10 in /usr/local/lib/python3.6/dist-packages (from botocore<1.14.0,>=1.13.32->boto3->transformers) (0.15.2)\n",
            "Building wheels for collected packages: sacremoses\n",
            "  Building wheel for sacremoses (setup.py) ... \u001b[?25l\u001b[?25hdone\n",
            "  Created wheel for sacremoses: filename=sacremoses-0.0.35-cp36-none-any.whl size=883999 sha256=2aa91b172c5aa1df5740e62954872e6532b496309b623c60489f90b51cec38ca\n",
            "  Stored in directory: /root/.cache/pip/wheels/63/2a/db/63e2909042c634ef551d0d9ac825b2b0b32dede4a6d87ddc94\n",
            "Successfully built sacremoses\n",
            "Installing collected packages: sentencepiece, sacremoses, regex, transformers\n",
            "Successfully installed regex-2019.11.1 sacremoses-0.0.35 sentencepiece-0.1.83 transformers-2.2.1\n",
            "Requirement already satisfied: pandas in /usr/local/lib/python3.6/dist-packages (0.25.3)\n",
            "Requirement already satisfied: numpy>=1.13.3 in /usr/local/lib/python3.6/dist-packages (from pandas) (1.17.4)\n",
            "Requirement already satisfied: python-dateutil>=2.6.1 in /usr/local/lib/python3.6/dist-packages (from pandas) (2.6.1)\n",
            "Requirement already satisfied: pytz>=2017.2 in /usr/local/lib/python3.6/dist-packages (from pandas) (2018.9)\n",
            "Requirement already satisfied: six>=1.5 in /usr/local/lib/python3.6/dist-packages (from python-dateutil>=2.6.1->pandas) (1.12.0)\n",
            "Requirement already satisfied: numpy in /usr/local/lib/python3.6/dist-packages (1.17.4)\n",
            "Requirement already satisfied: tqdm in /usr/local/lib/python3.6/dist-packages (4.28.1)\n",
            "Requirement already satisfied: sklearn in /usr/local/lib/python3.6/dist-packages (0.0)\n",
            "Requirement already satisfied: scikit-learn in /usr/local/lib/python3.6/dist-packages (from sklearn) (0.21.3)\n",
            "Requirement already satisfied: scipy>=0.17.0 in /usr/local/lib/python3.6/dist-packages (from scikit-learn->sklearn) (1.3.3)\n",
            "Requirement already satisfied: joblib>=0.11 in /usr/local/lib/python3.6/dist-packages (from scikit-learn->sklearn) (0.14.0)\n",
            "Requirement already satisfied: numpy>=1.11.0 in /usr/local/lib/python3.6/dist-packages (from scikit-learn->sklearn) (1.17.4)\n",
            "Go to this URL in a browser: https://accounts.google.com/o/oauth2/auth?client_id=947318989803-6bn6qk8qdgf4n4g3pfee6491hc0brc4i.apps.googleusercontent.com&redirect_uri=urn%3aietf%3awg%3aoauth%3a2.0%3aoob&response_type=code&scope=email%20https%3a%2f%2fwww.googleapis.com%2fauth%2fdocs.test%20https%3a%2f%2fwww.googleapis.com%2fauth%2fdrive%20https%3a%2f%2fwww.googleapis.com%2fauth%2fdrive.photos.readonly%20https%3a%2f%2fwww.googleapis.com%2fauth%2fpeopleapi.readonly\n",
            "\n",
            "Enter your authorization code:\n",
            "··········\n",
            "Mounted at /content/gdrive\n"
          ],
          "name": "stdout"
        }
      ]
    },
    {
      "cell_type": "code",
      "metadata": {
        "id": "YuAmirw-wSEV",
        "colab_type": "code",
        "outputId": "75c7bcf8-43a5-4b66-974b-0036908579d1",
        "colab": {
          "base_uri": "https://localhost:8080/",
          "height": 63
        }
      },
      "source": [
        "import pandas as pd\n",
        "from tqdm import tqdm\n",
        "from sklearn import preprocessing\n",
        "from sklearn.linear_model import SGDClassifier\n",
        "from sklearn.model_selection import train_test_split, GridSearchCV\n",
        "from sklearn.metrics import confusion_matrix\n",
        "import numpy as np\n",
        "import torch\n",
        "import torch.nn as nn\n",
        "import torch.nn.functional as F\n",
        "from transformers import *"
      ],
      "execution_count": 3,
      "outputs": [
        {
          "output_type": "display_data",
          "data": {
            "text/html": [
              "<p style=\"color: red;\">\n",
              "The default version of TensorFlow in Colab will soon switch to TensorFlow 2.x.<br>\n",
              "We recommend you <a href=\"https://www.tensorflow.org/guide/migrate\" target=\"_blank\">upgrade</a> now \n",
              "or ensure your notebook will continue to use TensorFlow 1.x via the <code>%tensorflow_version 1.x</code> magic:\n",
              "<a href=\"https://colab.research.google.com/notebooks/tensorflow_version.ipynb\" target=\"_blank\">more info</a>.</p>\n"
            ],
            "text/plain": [
              "<IPython.core.display.HTML object>"
            ]
          },
          "metadata": {
            "tags": []
          }
        }
      ]
    },
    {
      "cell_type": "code",
      "metadata": {
        "id": "M9OtFNVx0vB6",
        "colab_type": "code",
        "colab": {}
      },
      "source": [
        "# Embeddings can be derived from the last 1 or 4 layers, to reduce the computational cost, we used only the last layer.\n",
        "\n",
        "class Embeddings:\n",
        "    LAST_LAYER = 1\n",
        "    LAST_4_LAYERS = 2\n",
        "    def __init__(self):\n",
        "        self._tokenizer = BertTokenizer.from_pretrained('bert-base-uncased')\n",
        "        self._bert_model = BertModel.from_pretrained('bert-base-uncased', output_hidden_states=True)\n",
        "        self._bert_model.eval()\n",
        "\n",
        "    def tokenize(self, sentence):\n",
        "        \"\"\"\n",
        "\n",
        "        :param sentence: input sentence ['str']\n",
        "        :return: tokenized sentence based on word piece model ['List']\n",
        "        \"\"\"\n",
        "        marked_sentence = \"[CLS] \" + sentence + \" [SEP]\"\n",
        "        tokenized_text = self._tokenizer.tokenize(marked_sentence)\n",
        "        return tokenized_text\n",
        "\n",
        "    def get_bert_embeddings(self, sentence):\n",
        "        \"\"\"\n",
        "\n",
        "        :param sentence: input sentence ['str']\n",
        "        :return: BERT pre-trained hidden states (list of torch tensors) ['List']\n",
        "        \"\"\"\n",
        "        # Predict hidden states features for each layer\n",
        "\n",
        "        tokenized_text = self.tokenize(sentence)\n",
        "        indexed_tokens = self._tokenizer.convert_tokens_to_ids(tokenized_text)\n",
        "\n",
        "        segments_ids = [1] * len(tokenized_text)\n",
        "\n",
        "        # Convert inputs to PyTorch tensors\n",
        "        tokens_tensor = torch.tensor([indexed_tokens])\n",
        "        segments_tensors = torch.tensor([segments_ids])\n",
        "\n",
        "        with torch.no_grad():\n",
        "            encoded_layers = self._bert_model(tokens_tensor, segments_tensors)\n",
        "\n",
        "        return encoded_layers[-1][0:12]\n",
        "\n",
        "    def sentence2vec(self, sentence, layers):\n",
        "        \"\"\"\n",
        "\n",
        "        :param sentence: input sentence ['str']\n",
        "        :param layers: parameter to decide how word embeddings are obtained ['str]\n",
        "            1. 'last' : last hidden state used to obtain word embeddings for sentence tokens\n",
        "            2. 'last_4' : last 4 hidden states used to obtain word embeddings for sentence tokens\n",
        "\n",
        "        :return: sentence vector [List]\n",
        "        \"\"\"\n",
        "        encoded_layers = self.get_bert_embeddings(sentence)\n",
        "        \n",
        "        if layers == 1:\n",
        "            # using the last layer embeddings\n",
        "            token_embeddings = encoded_layers[-1]\n",
        "            # summing the last layer vectors for each token\n",
        "            sentence_embedding = torch.mean(token_embeddings, 1)\n",
        "            return sentence_embedding.view(-1).tolist()\n",
        "\n",
        "        elif layers == 2:\n",
        "            token_embeddings = []\n",
        "            tokenized_text = self.tokenize(sentence)\n",
        "\n",
        "            batch_i = 0\n",
        "            # For each token in the sentence...\n",
        "            for token_i in range(len(tokenized_text)):\n",
        "\n",
        "                # Holds 12 layers of hidden states for each token\n",
        "                hidden_layers = []\n",
        "\n",
        "                # For each of the 12 layers...\n",
        "                for layer_i in range(len(encoded_layers)):\n",
        "                    # Lookup the vector for `token_i` in `layer_i`\n",
        "                    vec = encoded_layers[layer_i][batch_i][token_i]\n",
        "\n",
        "                    hidden_layers.append(list(vec.numpy()))\n",
        "\n",
        "                token_embeddings.append(hidden_layers)\n",
        "\n",
        "            # using the last 4 layer embeddings\n",
        "            token_vecs_sum = []\n",
        "\n",
        "            # For each token in the sentence...\n",
        "            for token in token_embeddings:\n",
        "                # Sum the vectors from the last four layers.\n",
        "                sum_vec = np.sum(token[-4:], axis=0)\n",
        "\n",
        "                # Use `sum_vec` to represent `token`.\n",
        "                token_vecs_sum.append(list(sum_vec))\n",
        "\n",
        "            # summing the last layer vectors for each token\n",
        "            sentence_embedding = np.mean(token_vecs_sum, axis=0)\n",
        "            return sentence_embedding.ravel().tolist()"
      ],
      "execution_count": 0,
      "outputs": []
    },
    {
      "cell_type": "code",
      "metadata": {
        "id": "sBmksfP_04cH",
        "colab_type": "code",
        "colab": {}
      },
      "source": [
        "# Dataset: 3000 chunks * 3 authors, without masking\n",
        "\n",
        "# url = 'https://raw.githubusercontent.com/fy164251/text_style_transfer/master/Datasets/raw_text_3000.csv'\n",
        "# df = pd.read_csv(url)\n",
        "\n",
        "# X = df.text.astype('str')\n",
        "# y = df.author.astype('category')\n",
        "\n",
        "# # lbl_enc = preprocessing.LabelEncoder()\n",
        "# # y = lbl_enc.fit_transform(y.values)\n",
        "\n",
        "# y = np.asarray(y)\n",
        "# onehot_encoder = preprocessing.OneHotEncoder(sparse=False)\n",
        "# encoded = y.reshape(len(y), 1)\n",
        "# y = onehot_encoder.fit_transform(encoded)"
      ],
      "execution_count": 0,
      "outputs": []
    },
    {
      "cell_type": "code",
      "metadata": {
        "id": "DtkqPiy6v2VR",
        "colab_type": "code",
        "colab": {}
      },
      "source": [
        "# Dataset: 3000 chunks * 3 authors, with masking\n",
        "\n",
        "url = 'https://raw.githubusercontent.com/fy164251/text_style_transfer/master/Datasets/masked_text_3000.csv'\n",
        "df = pd.read_csv(url)\n",
        "\n",
        "X = df.text.astype('str')\n",
        "y = df.author.astype('category')\n",
        "\n",
        "# lbl_enc = preprocessing.LabelEncoder()\n",
        "# y = lbl_enc.fit_transform(y.values)\n",
        "\n",
        "y = np.asarray(y)\n",
        "onehot_encoder = preprocessing.OneHotEncoder(sparse=False)\n",
        "encoded = y.reshape(len(y), 1)\n",
        "y = onehot_encoder.fit_transform(encoded)"
      ],
      "execution_count": 0,
      "outputs": []
    },
    {
      "cell_type": "code",
      "metadata": {
        "id": "QD1A_uzX-mUw",
        "colab_type": "code",
        "colab": {}
      },
      "source": [
        "# model = Embeddings()\n",
        "\n",
        "# X_text = []\n",
        "# for sentence in tqdm(X):\n",
        "#     X_text.append(model.sentence2vec(sentence, layers=model.LAST_LAYER))"
      ],
      "execution_count": 0,
      "outputs": []
    },
    {
      "cell_type": "code",
      "metadata": {
        "id": "auQfIbHooxmk",
        "colab_type": "code",
        "outputId": "053df7e1-bc17-40aa-d3b5-a25c897c7ba5",
        "colab": {
          "base_uri": "https://localhost:8080/",
          "height": 102
        }
      },
      "source": [
        "# For Test Time\n",
        "\n",
        "# url = 'https://raw.githubusercontent.com/fy164251/text_style_transfer/master/outputs/masked_results.csv'\n",
        "# dft = pd.read_csv(url).set_index('Unnamed: 0')\n",
        "\n",
        "# X_old = dft.old.astype('str')\n",
        "# X_new = dft.new.astype('str')\n",
        "\n",
        "# model = Embeddings()\n",
        "\n",
        "# X_old_text, X_new_text = [], []\n",
        "# for sentence in tqdm(X_old):\n",
        "#     X_old_text.append(model.sentence2vec(sentence, layers=model.LAST_LAYER))\n",
        "# for sentence in tqdm(X_new):\n",
        "#     X_new_text.append(model.sentence2vec(sentence, layers=model.LAST_LAYER))"
      ],
      "execution_count": 0,
      "outputs": [
        {
          "output_type": "stream",
          "text": [
            "100%|██████████| 231508/231508 [00:00<00:00, 925756.54B/s]\n",
            "100%|██████████| 313/313 [00:00<00:00, 74216.58B/s]\n",
            "100%|██████████| 440473133/440473133 [00:16<00:00, 26964703.15B/s]\n",
            "100%|██████████| 55/55 [00:31<00:00,  1.69it/s]\n",
            "100%|██████████| 55/55 [00:34<00:00,  1.57it/s]\n"
          ],
          "name": "stderr"
        }
      ]
    },
    {
      "cell_type": "code",
      "metadata": {
        "id": "f7_YrIamp5Dy",
        "colab_type": "code",
        "colab": {}
      },
      "source": [
        "# X_old = pd.DataFrame(X_old_text)\n",
        "# X_old.to_csv('./gdrive/My Drive/DL/Style/X_old_Embedding.csv')\n",
        "\n",
        "# X_new = pd.DataFrame(X_new_text)\n",
        "# X_new.to_csv('./gdrive/My Drive/DL/Style/X_new_Embedding.csv')"
      ],
      "execution_count": 0,
      "outputs": []
    },
    {
      "cell_type": "code",
      "metadata": {
        "id": "nplxzc29EEzL",
        "colab_type": "code",
        "colab": {}
      },
      "source": [
        "# X_df = pd.DataFrame(X_text)\n",
        "# X_df.to_csv('./gdrive/My Drive/DL/Style/DistilBert_Embedding_3000_2.csv')"
      ],
      "execution_count": 0,
      "outputs": []
    },
    {
      "cell_type": "code",
      "metadata": {
        "id": "16TunKA3KVd1",
        "colab_type": "code",
        "outputId": "ad8c70dc-3039-4242-d696-c53bd38f694f",
        "colab": {
          "base_uri": "https://localhost:8080/",
          "height": 119
        }
      },
      "source": [
        "# For old Rand examples\n",
        "\n",
        "# url = 'https://raw.githubusercontent.com/fy164251/text_style_transfer/master/outputs/rand_examples.csv'\n",
        "# df = pd.read_csv(url).set_index('Unnamed: 0')\n",
        "\n",
        "\n",
        "# X1 = df['Rand-donor-text'].astype('str')\n",
        "# X2 = df['Rand_117M_10000_Nabokov-All-3'].astype('str')\n",
        "# X3 = df['Rand-output-ngram'].astype('str')\n",
        "\n",
        "# model = Embeddings()\n",
        "\n",
        "# X1_text, X2_text, X3_text = [], [], []\n",
        "# for sentence in tqdm(X1):\n",
        "#     X1_text.append(model.sentence2vec(sentence, layers=model.LAST_LAYER))\n",
        "# for sentence in tqdm(X2):\n",
        "#     X2_text.append(model.sentence2vec(sentence, layers=model.LAST_LAYER))\n",
        "# for sentence in tqdm(X2):\n",
        "#     X3_text.append(model.sentence2vec(sentence, layers=model.LAST_LAYER))"
      ],
      "execution_count": 0,
      "outputs": [
        {
          "output_type": "stream",
          "text": [
            "100%|██████████| 231508/231508 [00:00<00:00, 1184340.76B/s]\n",
            "100%|██████████| 313/313 [00:00<00:00, 48256.47B/s]\n",
            "100%|██████████| 440473133/440473133 [00:12<00:00, 36565607.31B/s]\n",
            "100%|██████████| 7/7 [00:02<00:00,  3.65it/s]\n",
            "100%|██████████| 7/7 [00:02<00:00,  3.43it/s]\n",
            "100%|██████████| 7/7 [00:02<00:00,  3.46it/s]\n"
          ],
          "name": "stderr"
        }
      ]
    },
    {
      "cell_type": "markdown",
      "metadata": {
        "id": "VZQlnt96NhI9",
        "colab_type": "text"
      },
      "source": [
        "### Building A Style Classifier on Top of DistilBert Embeddings"
      ]
    },
    {
      "cell_type": "code",
      "metadata": {
        "id": "LY3FCnoh-zc4",
        "colab_type": "code",
        "outputId": "5670965d-696e-4bf8-b01c-6c6324417c80",
        "colab": {
          "base_uri": "https://localhost:8080/",
          "height": 34
        }
      },
      "source": [
        "# X_df = pd.DataFrame(X_text)\n",
        "# X_df.to_csv('./gdrive/My Drive/DL/Style/DistilBert_Embedding_3000.csv')\n",
        "\n",
        "X_df = pd.read_csv('./gdrive/My Drive/DL/Style/DistilBert_Embedding_3000_2.csv').set_index('Unnamed: 0')\n",
        "\n",
        "X_train, X_val, y_train, y_val = train_test_split(X_df, y, stratify=y, random_state=1, test_size=0.2, shuffle=True)\n",
        "X_val, X_test, y_val, y_test = train_test_split(X_val, y_val, test_size=0.5, random_state=1, shuffle=True)\n",
        "\n",
        "print(X_train.shape, X_val.shape)"
      ],
      "execution_count": 8,
      "outputs": [
        {
          "output_type": "stream",
          "text": [
            "(7200, 768) (900, 768)\n"
          ],
          "name": "stdout"
        }
      ]
    },
    {
      "cell_type": "code",
      "metadata": {
        "id": "gws6Gds8iSsq",
        "colab_type": "code",
        "outputId": "3aee1c36-c231-4974-acf4-039c6cc90ef1",
        "colab": {
          "base_uri": "https://localhost:8080/",
          "height": 153
        }
      },
      "source": [
        "# Feed-Forward Neural Nets\n",
        "class FFNN(nn.Module):\n",
        "    def __init__(self, input_dim, hidden_dim, output_dim):\n",
        "        \"\"\"\n",
        "        Args:\n",
        "            input_dim (int): the size of the input vectors\n",
        "            hidden_dim (int): the output size of the first Linear layer\n",
        "            output_dim (int): the output size of the second Linear layer\n",
        "        \"\"\"\n",
        "        super(FFNN, self).__init__()\n",
        "        self.fc1 = nn.Linear(input_dim, hidden_dim)\n",
        "        self.bn1 = nn.BatchNorm1d(hidden_dim)\n",
        "        self.fc2 = nn.Linear(hidden_dim, hidden_dim)\n",
        "        self.bn2 = nn.BatchNorm1d(hidden_dim)\n",
        "        self.fc3 = nn.Linear(hidden_dim, output_dim)\n",
        "        self.bn3 = nn.BatchNorm1d(output_dim)\n",
        "\n",
        "    def forward(self, x):\n",
        "        \"\"\"The forward pass of the FFNN\n",
        "        \n",
        "        Args:\n",
        "            x (torch.Tensor): an input data tensor. \n",
        "                x_in.shape should be (batch, input_dim)\n",
        "        Returns:\n",
        "            the resulting tensor. tensor.shape should be (batch, output_dim)\n",
        "        \"\"\"\n",
        "        c = self.fc1(x)\n",
        "        x = self.bn1(c)\n",
        "        x = F.relu(x)\n",
        "        x = F.dropout(x, p=0.5)\n",
        "        c = torch.cat((x, c), 1)\n",
        "        x = self.fc2(c)\n",
        "        x = self.bn2(x)\n",
        "        x = F.relu(x)\n",
        "        x = F.dropout(x, p=0.5)\n",
        "        c = torch.cat((x, c), 1)\n",
        "        x = self.fc3(c)\n",
        "        x = self.bn3(x)\n",
        "        x = F.relu(x)\n",
        "        output = F.dropout(x, p=0.5)\n",
        "     \n",
        "        return output\n",
        "\n",
        "batch_size = 32 # number of samples input at once\n",
        "input_dim = 768\n",
        "hidden_dim = 128\n",
        "output_dim = 3\n",
        "\n",
        "# Initialize model\n",
        "model = FFNN(input_dim, hidden_dim, output_dim)\n",
        "print(model)\n",
        "\n",
        "X = torch.tensor(np.array(X_train))\n",
        "# y_output = model(X)\n",
        "# describe(y_output)"
      ],
      "execution_count": 7,
      "outputs": [
        {
          "output_type": "stream",
          "text": [
            "FFNN(\n",
            "  (fc1): Linear(in_features=768, out_features=128, bias=True)\n",
            "  (bn1): BatchNorm1d(128, eps=1e-05, momentum=0.1, affine=True, track_running_stats=True)\n",
            "  (fc2): Linear(in_features=128, out_features=128, bias=True)\n",
            "  (bn2): BatchNorm1d(128, eps=1e-05, momentum=0.1, affine=True, track_running_stats=True)\n",
            "  (fc3): Linear(in_features=128, out_features=3, bias=True)\n",
            "  (bn3): BatchNorm1d(3, eps=1e-05, momentum=0.1, affine=True, track_running_stats=True)\n",
            ")\n"
          ],
          "name": "stdout"
        }
      ]
    },
    {
      "cell_type": "markdown",
      "metadata": {
        "id": "sI6DKVblH_CD",
        "colab_type": "text"
      },
      "source": [
        "### Baselines\n"
      ]
    },
    {
      "cell_type": "code",
      "metadata": {
        "id": "8uDpIahUMo8X",
        "colab_type": "code",
        "outputId": "64095b39-c23e-4b12-e604-c4147d51a844",
        "colab": {
          "base_uri": "https://localhost:8080/",
          "height": 34
        }
      },
      "source": [
        "# For Baselines\n",
        "\n",
        "url = 'https://raw.githubusercontent.com/fy164251/text_style_transfer/master/Datasets/masked_text_3000.csv'\n",
        "df = pd.read_csv(url)\n",
        "\n",
        "X = df.text.astype('str')\n",
        "y = df.author.astype('category')\n",
        "\n",
        "lbl_enc = preprocessing.LabelEncoder()\n",
        "y = lbl_enc.fit_transform(y.values)\n",
        "\n",
        "xtrain, xvalid, ytrain, yvalid = train_test_split(X, y, stratify=y, random_state=1, test_size=0.2, shuffle=True)\n",
        "xvalid, xtest, yvalid, ytest = train_test_split(xvalid, yvalid, test_size=0.5, random_state=1, shuffle=True)\n",
        "\n",
        "print(xtrain.shape, xvalid.shape)"
      ],
      "execution_count": 0,
      "outputs": [
        {
          "output_type": "stream",
          "text": [
            "(7200,) (900,)\n"
          ],
          "name": "stdout"
        }
      ]
    },
    {
      "cell_type": "code",
      "metadata": {
        "id": "03oQGXQJIIhj",
        "colab_type": "code",
        "colab": {
          "base_uri": "https://localhost:8080/",
          "height": 119
        },
        "outputId": "4fb27158-b71b-4480-ddea-e8586b11d7f6"
      },
      "source": [
        "from sklearn import preprocessing, decomposition, model_selection, metrics, pipeline\n",
        "from sklearn.model_selection import GridSearchCV\n",
        "from sklearn.feature_extraction.text import TfidfVectorizer, CountVectorizer\n",
        "from sklearn.decomposition import TruncatedSVD\n",
        "from sklearn.linear_model import LogisticRegression\n",
        "from sklearn.naive_bayes import MultinomialNB\n",
        "from sklearn.linear_model import LogisticRegression\n",
        "from sklearn.model_selection import train_test_split\n",
        "from nltk import word_tokenize\n",
        "from nltk.corpus import stopwords\n",
        "from sklearn.metrics import roc_auc_score, classification_report\n",
        "from sklearn.preprocessing import LabelEncoder\n",
        "from sklearn.model_selection import StratifiedKFold, KFold\n",
        "from sklearn.svm import SVC\n",
        "from keras.models import Sequential\n",
        "from keras.layers.recurrent import LSTM, GRU\n",
        "from keras.layers.core import Dense, Activation, Dropout\n",
        "from keras.layers.embeddings import Embedding\n",
        "from keras.layers.normalization import BatchNormalization\n",
        "from keras.layers import GlobalMaxPooling1D, Conv1D, MaxPooling1D, Flatten, Bidirectional, SpatialDropout1D\n",
        "from keras.preprocessing import sequence, text\n",
        "from keras.callbacks import EarlyStopping\n",
        "from keras.utils import np_utils\n",
        "from tqdm import tqdm\n",
        "import xgboost as xgb\n",
        "import sys\n",
        "import logging\n",
        "import numpy as np\n",
        "import pandas as pd\n",
        "import matplotlib.pyplot as plt\n",
        "import urllib\n",
        "import tensorflow as tf\n",
        "import seaborn as sns\n",
        "import nltk\n",
        "nltk.download('punkt')\n",
        "nltk.download('stopwords')\n",
        "from nltk import word_tokenize\n",
        "stop_words = stopwords.words('english')\n",
        "%tensorflow_version 2.x\n",
        "import tensorflow_hub as hub\n",
        "%matplotlib inline\n",
        "plt.xkcd()\n",
        "\n",
        "# Defining Multi-Class Log Loss\n",
        "def multiclass_logloss(actual, predicted, eps=1e-15):\n",
        "    \"\"\"Multi class version of Logarithmic Loss metric.\n",
        "    :param actual: Array containing the actual target classes\n",
        "    :param predicted: Matrix with class predictions, one probability per class\n",
        "    \"\"\"\n",
        "    # Convert 'actual' to a binary array if it's not already:\n",
        "    if len(actual.shape) == 1:\n",
        "        actual2 = np.zeros((actual.shape[0], predicted.shape[1]))\n",
        "        for i, val in enumerate(actual):\n",
        "            actual2[i, val] = 1\n",
        "        actual = actual2\n",
        "\n",
        "    clip = np.clip(predicted, eps, 1 - eps)\n",
        "    rows = actual.shape[0]\n",
        "    vsota = np.sum(actual * np.log(clip))\n",
        "    return -1.0 / rows * vsota"
      ],
      "execution_count": 8,
      "outputs": [
        {
          "output_type": "stream",
          "text": [
            "Using TensorFlow backend.\n"
          ],
          "name": "stderr"
        },
        {
          "output_type": "stream",
          "text": [
            "[nltk_data] Downloading package punkt to /root/nltk_data...\n",
            "[nltk_data]   Unzipping tokenizers/punkt.zip.\n",
            "[nltk_data] Downloading package stopwords to /root/nltk_data...\n",
            "[nltk_data]   Unzipping corpora/stopwords.zip.\n",
            "TensorFlow is already loaded. Please restart the runtime to change versions.\n"
          ],
          "name": "stdout"
        }
      ]
    },
    {
      "cell_type": "code",
      "metadata": {
        "id": "alCe8WVxNjK7",
        "colab_type": "code",
        "colab": {
          "base_uri": "https://localhost:8080/",
          "height": 683
        },
        "outputId": "d1fb67fe-9006-4a39-9645-d4d78cc4a15b"
      },
      "source": [
        "#TF-IDF features\n",
        "tfv = TfidfVectorizer(min_df=3,\n",
        "                      max_features=None,\n",
        "                      strip_accents='unicode',\n",
        "                      analyzer='word',\n",
        "                      token_pattern=r'\\w{1,}',\n",
        "                      ngram_range=(1,3),\n",
        "                      use_idf=1,\n",
        "                      smooth_idf=1,\n",
        "                      sublinear_tf=1,\n",
        "                      stop_words='english')\n",
        "\n",
        "tfv.fit(list(xtrain) + list(xvalid))\n",
        "xtrain_tfv = tfv.transform(xtrain)\n",
        "xvalid_tfv = tfv.transform(xvalid)\n",
        "\n",
        "print(\"The size of the learnt vocabulary is \", len(tfv.vocabulary_))\n",
        "\n",
        "def display_scores(vectorizer, tfidf_result):\n",
        "    scores = zip(vectorizer.get_feature_names(), np.asarray(tfidf_result.sum(axis=0)).ravel())\n",
        "    sorted_scores = sorted(scores, key=lambda x: x[1], reverse=True)\n",
        "    count = 0\n",
        "    for item in sorted_scores: \n",
        "        print(item[0], item[1])\n",
        "        count += 1\n",
        "        if count>=20:\n",
        "            break\n",
        "\n",
        "#See top 10 TF-IDF scores\n",
        "print('Top 20 TF-IDF scores are --- \\n')\n",
        "display_scores(tfv,xvalid_tfv)\n",
        "\n",
        "\n",
        "\n",
        "#Logistic Regression on TF-IDF\n",
        "clf_tfidf = LogisticRegression(C=1.0)\n",
        "clf_tfidf.fit(xtrain_tfv, ytrain)\n",
        "predictions = clf_tfidf.predict_proba(xvalid_tfv)\n",
        "pred = clf_tfidf.predict(xvalid_tfv)\n",
        "print(\"logloss for TF-IDF + LR : \" + str(multiclass_logloss(yvalid, predictions)))\n",
        "print(classification_report(yvalid, pred))"
      ],
      "execution_count": 37,
      "outputs": [
        {
          "output_type": "stream",
          "text": [
            "The size of the learnt vocabulary is  24138\n",
            "Top 20 TF-IDF scores are --- \n",
            "\n",
            "mask 42.3373247275727\n",
            "mask mask 19.49016758000067\n",
            "s 19.264278950832434\n",
            "said 18.40952044299222\n",
            "mask s 11.89549140304362\n",
            "said mask 10.86659421311315\n",
            "time 10.83122311068303\n",
            "d 9.641361705463183\n",
            "did 9.465040800253758\n",
            "like 9.374128794686039\n",
            "good 9.262415173964058\n",
            "know 9.161314605106275\n",
            "little 9.152136391660441\n",
            "d mask 8.698420964845504\n",
            "man 8.46385578455\n",
            "mask mask mask 8.412836404979416\n",
            "mr 8.283823936742474\n",
            "shall 8.257588996039829\n",
            "king 8.07012618864858\n",
            "great 7.981449294301742\n",
            "logloss for TF-IDF + LR : 0.3384619160096547\n",
            "              precision    recall  f1-score   support\n",
            "\n",
            "           0       0.98      0.96      0.97       301\n",
            "           1       0.98      0.95      0.97       306\n",
            "           2       0.93      0.98      0.95       293\n",
            "\n",
            "    accuracy                           0.96       900\n",
            "   macro avg       0.96      0.96      0.96       900\n",
            "weighted avg       0.96      0.96      0.96       900\n",
            "\n"
          ],
          "name": "stdout"
        },
        {
          "output_type": "stream",
          "text": [
            "/usr/local/lib/python3.6/dist-packages/sklearn/linear_model/logistic.py:432: FutureWarning: Default solver will be changed to 'lbfgs' in 0.22. Specify a solver to silence this warning.\n",
            "  FutureWarning)\n",
            "/usr/local/lib/python3.6/dist-packages/sklearn/linear_model/logistic.py:469: FutureWarning: Default multi_class will be changed to 'auto' in 0.22. Specify the multi_class option to silence this warning.\n",
            "  \"this warning.\", FutureWarning)\n"
          ],
          "name": "stderr"
        }
      ]
    },
    {
      "cell_type": "code",
      "metadata": {
        "id": "ySv4hX9IOzpB",
        "colab_type": "code",
        "colab": {
          "base_uri": "https://localhost:8080/",
          "height": 292
        },
        "outputId": "3be96d3a-349e-43eb-b3fb-b62c67f2474b"
      },
      "source": [
        "ctv = CountVectorizer(analyzer='word',\n",
        "                      token_pattern=r'\\w{1,}',\n",
        "                      ngram_range=(1,3),\n",
        "                      stop_words='english')\n",
        "\n",
        "ctv.fit(list(xtrain) + list(xvalid))\n",
        "xtrain_ctv = ctv.transform(xtrain)\n",
        "xvalid_ctv = ctv.transform(xvalid)\n",
        "\n",
        "clf_ctv = LogisticRegression(C=1.0)\n",
        "clf_ctv.fit(xtrain_ctv, ytrain)\n",
        "predictions = clf_ctv.predict_proba(xvalid_ctv)\n",
        "predictions_rounded = clf_ctv.predict(xvalid_ctv)\n",
        "print(\"logloss for CVectorizer + LR : \", multiclass_logloss(yvalid, predictions))\n",
        "print(classification_report(yvalid, predictions_rounded))"
      ],
      "execution_count": 38,
      "outputs": [
        {
          "output_type": "stream",
          "text": [
            "/usr/local/lib/python3.6/dist-packages/sklearn/linear_model/logistic.py:432: FutureWarning: Default solver will be changed to 'lbfgs' in 0.22. Specify a solver to silence this warning.\n",
            "  FutureWarning)\n",
            "/usr/local/lib/python3.6/dist-packages/sklearn/linear_model/logistic.py:469: FutureWarning: Default multi_class will be changed to 'auto' in 0.22. Specify the multi_class option to silence this warning.\n",
            "  \"this warning.\", FutureWarning)\n"
          ],
          "name": "stderr"
        },
        {
          "output_type": "stream",
          "text": [
            "logloss for CVectorizer + LR :  0.13450918346659163\n",
            "              precision    recall  f1-score   support\n",
            "\n",
            "           0       0.97      0.97      0.97       301\n",
            "           1       0.98      0.95      0.96       306\n",
            "           2       0.94      0.97      0.95       293\n",
            "\n",
            "    accuracy                           0.96       900\n",
            "   macro avg       0.96      0.96      0.96       900\n",
            "weighted avg       0.96      0.96      0.96       900\n",
            "\n"
          ],
          "name": "stdout"
        }
      ]
    },
    {
      "cell_type": "code",
      "metadata": {
        "id": "yHoVJDM7ICKk",
        "colab_type": "code",
        "colab": {
          "base_uri": "https://localhost:8080/",
          "height": 204
        },
        "outputId": "afb66a7f-ffa5-474c-c591-bec8440e96d0"
      },
      "source": [
        "# TF-IDF + NB\n",
        "#Multinomial Naive Bayes on TF-IDF\n",
        "clf = MultinomialNB()\n",
        "clf.fit(xtrain_tfv, ytrain)\n",
        "predictions = clf.predict_proba(xvalid_tfv)\n",
        "predictions_rounded = clf.predict(xvalid_tfv)\n",
        "print(\"logloss for Multinomial Naive Bayes: \", multiclass_logloss(yvalid, predictions))\n",
        "print(classification_report(yvalid, predictions_rounded))"
      ],
      "execution_count": 39,
      "outputs": [
        {
          "output_type": "stream",
          "text": [
            "logloss for Multinomial Naive Bayes:  0.23024957811771907\n",
            "              precision    recall  f1-score   support\n",
            "\n",
            "           0       0.98      0.99      0.98       301\n",
            "           1       0.98      0.98      0.98       306\n",
            "           2       0.98      0.97      0.97       293\n",
            "\n",
            "    accuracy                           0.98       900\n",
            "   macro avg       0.98      0.98      0.98       900\n",
            "weighted avg       0.98      0.98      0.98       900\n",
            "\n"
          ],
          "name": "stdout"
        }
      ]
    },
    {
      "cell_type": "code",
      "metadata": {
        "id": "1TCgHhrhPUBl",
        "colab_type": "code",
        "colab": {
          "base_uri": "https://localhost:8080/",
          "height": 204
        },
        "outputId": "8d5245be-6732-42a3-e5af-7333e3cb9886"
      },
      "source": [
        "#Multinomial Naive Bayes on Count Vectors\n",
        "clf.fit(xtrain_ctv, ytrain)\n",
        "predictions = clf.predict_proba(xvalid_ctv)\n",
        "predictions_rounded = clf.predict(xvalid_ctv)\n",
        "print(\"logloss for Multinomial Naive Bayes with count vectorizer : \", multiclass_logloss(yvalid, predictions))\n",
        "print(classification_report(yvalid, predictions_rounded))"
      ],
      "execution_count": 40,
      "outputs": [
        {
          "output_type": "stream",
          "text": [
            "logloss for Multinomial Naive Bayes with count vectorizer :  0.18638961017304032\n",
            "              precision    recall  f1-score   support\n",
            "\n",
            "           0       0.98      0.99      0.99       301\n",
            "           1       0.95      0.99      0.97       306\n",
            "           2       0.99      0.94      0.97       293\n",
            "\n",
            "    accuracy                           0.97       900\n",
            "   macro avg       0.98      0.97      0.97       900\n",
            "weighted avg       0.97      0.97      0.97       900\n",
            "\n"
          ],
          "name": "stdout"
        }
      ]
    },
    {
      "cell_type": "code",
      "metadata": {
        "id": "bCYSay6-PdKN",
        "colab_type": "code",
        "colab": {
          "base_uri": "https://localhost:8080/",
          "height": 204
        },
        "outputId": "714841d8-a409-4c9d-f77f-fe6be926f62a"
      },
      "source": [
        "# SVD on TF-IDF --> SVM\n",
        "\n",
        "svd = decomposition.TruncatedSVD(n_components=100)\n",
        "svd.fit(xtrain_tfv)\n",
        "xtrain_svd = svd.transform(xtrain_tfv)\n",
        "xvalid_svd = svd.transform(xvalid_tfv)\n",
        "\n",
        "scl = preprocessing.StandardScaler()\n",
        "scl.fit(xtrain_svd)\n",
        "xtrain_svd_scl = scl.transform(xtrain_svd)\n",
        "xvalid_svd_scl = scl.transform(xvalid_svd)\n",
        "\n",
        "clf = SVC(C=1.0, probability=True)\n",
        "clf.fit(xtrain_svd_scl, ytrain)\n",
        "predictions = clf.predict_proba(xvalid_svd_scl)\n",
        "predictions_rounded = clf.predict(xvalid_svd_scl)\n",
        "print(\" SVM logloss : \", multiclass_logloss(yvalid, predictions))\n",
        "print(classification_report(yvalid, predictions_rounded))"
      ],
      "execution_count": 41,
      "outputs": [
        {
          "output_type": "stream",
          "text": [
            " SVM logloss :  0.16455732235237291\n",
            "              precision    recall  f1-score   support\n",
            "\n",
            "           0       0.98      0.93      0.95       301\n",
            "           1       0.98      0.92      0.95       306\n",
            "           2       0.90      0.99      0.94       293\n",
            "\n",
            "    accuracy                           0.95       900\n",
            "   macro avg       0.95      0.95      0.95       900\n",
            "weighted avg       0.95      0.95      0.95       900\n",
            "\n"
          ],
          "name": "stdout"
        }
      ]
    },
    {
      "cell_type": "code",
      "metadata": {
        "id": "88k8iwQ6V5FC",
        "colab_type": "code",
        "colab": {}
      },
      "source": [
        "# XGBoost on SVD features\n",
        "clf = xgb.XGBClassifier()\n",
        "clf.fit(xtrain_svd, ytrain)\n",
        "predictions = clf.predict_proba(xvalid_svd)\n",
        "predictions_rounded = clf.predict(xvalid_svd)\n",
        "\n",
        "print (\"XGBOOST logloss: %0.3f \" % multiclass_logloss(yvalid, predictions))\n",
        "print(classification_report(yvalid, predictions_rounded))"
      ],
      "execution_count": 0,
      "outputs": []
    },
    {
      "cell_type": "code",
      "metadata": {
        "id": "QlgV4SWjWS3t",
        "colab_type": "code",
        "colab": {
          "base_uri": "https://localhost:8080/",
          "height": 374
        },
        "outputId": "3e191da6-c1c1-477d-a00c-869a3c90c81b"
      },
      "source": [
        "# !wget http://www-nlp.stanford.edu/data/glove.840B.300d.zip"
      ],
      "execution_count": 44,
      "outputs": [
        {
          "output_type": "stream",
          "text": [
            "--2019-12-07 21:52:41--  http://www-nlp.stanford.edu/data/glove.840B.300d.zip\n",
            "Resolving www-nlp.stanford.edu (www-nlp.stanford.edu)... 171.64.67.140\n",
            "Connecting to www-nlp.stanford.edu (www-nlp.stanford.edu)|171.64.67.140|:80... connected.\n",
            "HTTP request sent, awaiting response... 302 Found\n",
            "Location: https://nlp.stanford.edu/data/glove.840B.300d.zip [following]\n",
            "--2019-12-07 21:52:42--  https://nlp.stanford.edu/data/glove.840B.300d.zip\n",
            "Resolving nlp.stanford.edu (nlp.stanford.edu)... 171.64.67.140\n",
            "Connecting to nlp.stanford.edu (nlp.stanford.edu)|171.64.67.140|:443... connected.\n",
            "HTTP request sent, awaiting response... 301 Moved Permanently\n",
            "Location: http://downloads.cs.stanford.edu/nlp/data/glove.840B.300d.zip [following]\n",
            "--2019-12-07 21:52:42--  http://downloads.cs.stanford.edu/nlp/data/glove.840B.300d.zip\n",
            "Resolving downloads.cs.stanford.edu (downloads.cs.stanford.edu)... 171.64.64.22\n",
            "Connecting to downloads.cs.stanford.edu (downloads.cs.stanford.edu)|171.64.64.22|:80... connected.\n",
            "HTTP request sent, awaiting response... 200 OK\n",
            "Length: 2176768927 (2.0G) [application/zip]\n",
            "Saving to: ‘glove.840B.300d.zip’\n",
            "\n",
            "glove.840B.300d.zip 100%[===================>]   2.03G  1.94MB/s    in 16m 58s \n",
            "\n",
            "2019-12-07 22:09:40 (2.04 MB/s) - ‘glove.840B.300d.zip’ saved [2176768927/2176768927]\n",
            "\n"
          ],
          "name": "stdout"
        }
      ]
    },
    {
      "cell_type": "code",
      "metadata": {
        "id": "opAaqtHuWdIP",
        "colab_type": "code",
        "colab": {
          "base_uri": "https://localhost:8080/",
          "height": 51
        },
        "outputId": "753cf871-44cf-41cd-e95d-331aecfeb75e"
      },
      "source": [
        "embeddings_index = {}\n",
        "f = open('/content/gdrive/My Drive/DL/NLP/GloVe/glove.6B.300d.txt')\n",
        "for line in tqdm(f):\n",
        "    values = line.split()\n",
        "    word = values[0]\n",
        "    try:\n",
        "        coefs = np.asarray(values[1:], dtype='float32')\n",
        "        embeddings_index[word] = coefs        \n",
        "    except ValueError:\n",
        "        pass\n",
        "    \n",
        "f.close()\n",
        "print(\"Found \",len(embeddings_index),\"vectors\")"
      ],
      "execution_count": 11,
      "outputs": [
        {
          "output_type": "stream",
          "text": [
            "400000it [00:33, 11767.82it/s]"
          ],
          "name": "stderr"
        },
        {
          "output_type": "stream",
          "text": [
            "Found  400000 vectors\n"
          ],
          "name": "stdout"
        },
        {
          "output_type": "stream",
          "text": [
            "\n"
          ],
          "name": "stderr"
        }
      ]
    },
    {
      "cell_type": "code",
      "metadata": {
        "id": "FvmsZcBEWiIA",
        "colab_type": "code",
        "colab": {
          "base_uri": "https://localhost:8080/",
          "height": 51
        },
        "outputId": "03d87fc8-6d3f-4d1c-d87a-887e2267e495"
      },
      "source": [
        "# generate weighted sentence embeddings\n",
        "\n",
        "def sent2vec(s):\n",
        "    words = str(s).lower()\n",
        "    words = word_tokenize(words)\n",
        "    words = [w for w in words if not w in stop_words]\n",
        "    words = [w for w in words if w.isalpha()]\n",
        "    M = []\n",
        "    for w in words:\n",
        "        try:\n",
        "            M.append(embeddings_index[w])\n",
        "        except:\n",
        "            continue\n",
        "    M = np.array(M)\n",
        "    v = M.sum(axis=0)\n",
        "    if type(v) != np.ndarray:\n",
        "        return np.zeros(300)\n",
        "    return v / np.sqrt((v ** 2).sum())\n",
        "\n",
        "xtrain_glove = [sent2vec(x) for x in tqdm(xtrain)]\n",
        "xvalid_glove = [sent2vec(x) for x in tqdm(xvalid)]"
      ],
      "execution_count": 12,
      "outputs": [
        {
          "output_type": "stream",
          "text": [
            "100%|██████████| 7200/7200 [00:08<00:00, 861.22it/s]\n",
            "100%|██████████| 900/900 [00:01<00:00, 873.14it/s]\n"
          ],
          "name": "stderr"
        }
      ]
    },
    {
      "cell_type": "code",
      "metadata": {
        "id": "Crwv4UzQWl93",
        "colab_type": "code",
        "colab": {
          "base_uri": "https://localhost:8080/",
          "height": 292
        },
        "outputId": "297346c5-6883-401e-9c9b-5fdf6ddd8d90"
      },
      "source": [
        "xtrain_glove = np.array(xtrain_glove)\n",
        "xvalid_glove = np.array(xvalid_glove)\n",
        "\n",
        "clf = LogisticRegression(C=1.0)\n",
        "clf.fit(xtrain_glove, ytrain)\n",
        "predictions = clf.predict_proba(xvalid_glove)\n",
        "predictions_rounded = clf.predict(xvalid_glove)\n",
        "print(\"logloss : \", multiclass_logloss(yvalid, predictions))\n",
        "print(classification_report(yvalid, predictions_rounded))"
      ],
      "execution_count": 13,
      "outputs": [
        {
          "output_type": "stream",
          "text": [
            "/usr/local/lib/python3.6/dist-packages/sklearn/linear_model/logistic.py:432: FutureWarning: Default solver will be changed to 'lbfgs' in 0.22. Specify a solver to silence this warning.\n",
            "  FutureWarning)\n",
            "/usr/local/lib/python3.6/dist-packages/sklearn/linear_model/logistic.py:469: FutureWarning: Default multi_class will be changed to 'auto' in 0.22. Specify the multi_class option to silence this warning.\n",
            "  \"this warning.\", FutureWarning)\n"
          ],
          "name": "stderr"
        },
        {
          "output_type": "stream",
          "text": [
            "logloss :  0.39487923541037245\n",
            "              precision    recall  f1-score   support\n",
            "\n",
            "           0       0.89      0.94      0.92       301\n",
            "           1       0.93      0.87      0.90       306\n",
            "           2       0.90      0.91      0.91       293\n",
            "\n",
            "    accuracy                           0.91       900\n",
            "   macro avg       0.91      0.91      0.91       900\n",
            "weighted avg       0.91      0.91      0.91       900\n",
            "\n"
          ],
          "name": "stdout"
        }
      ]
    },
    {
      "cell_type": "code",
      "metadata": {
        "id": "wDkSeVMZWpbU",
        "colab_type": "code",
        "colab": {}
      },
      "source": [
        "# scale the data before any neural net:\n",
        "scl = preprocessing.StandardScaler()\n",
        "xtrain_glove_scl = scl.fit_transform(xtrain_glove)\n",
        "xvalid_glove_scl = scl.transform(xvalid_glove)\n",
        "\n",
        "\n",
        "# we need to binarize the labels for the neural net\n",
        "ytrain_enc = np_utils.to_categorical(ytrain)\n",
        "yvalid_enc = np_utils.to_categorical(yvalid)"
      ],
      "execution_count": 0,
      "outputs": []
    },
    {
      "cell_type": "code",
      "metadata": {
        "id": "Ku2YuApUWs34",
        "colab_type": "code",
        "colab": {
          "base_uri": "https://localhost:8080/",
          "height": 819
        },
        "outputId": "507eac17-4a5a-4ba2-a915-2c56488d8f2f"
      },
      "source": [
        "model = Sequential()\n",
        "\n",
        "model.add(Dense(300, input_dim=300, activation='relu'))\n",
        "model.add(Dropout(0.2))\n",
        "model.add(BatchNormalization())\n",
        "\n",
        "model.add(Dense(300, activation='relu'))\n",
        "model.add(Dropout(0.3))\n",
        "model.add(BatchNormalization())\n",
        "\n",
        "model.add(Dense(3))\n",
        "model.add(Activation('softmax'))\n",
        "\n",
        "# compile the model\n",
        "model.compile(loss='categorical_crossentropy',\n",
        "              optimizer='adam')\n",
        "\n",
        "model.fit(xtrain_glove_scl,\n",
        "          y=ytrain_enc,\n",
        "          batch_size=64, \n",
        "          epochs=5,\n",
        "          verbose=1, \n",
        "          validation_data=(xvalid_glove_scl, yvalid_enc))"
      ],
      "execution_count": 15,
      "outputs": [
        {
          "output_type": "stream",
          "text": [
            "WARNING:tensorflow:From /usr/local/lib/python3.6/dist-packages/keras/backend/tensorflow_backend.py:66: The name tf.get_default_graph is deprecated. Please use tf.compat.v1.get_default_graph instead.\n",
            "\n",
            "WARNING:tensorflow:From /usr/local/lib/python3.6/dist-packages/keras/backend/tensorflow_backend.py:541: The name tf.placeholder is deprecated. Please use tf.compat.v1.placeholder instead.\n",
            "\n",
            "WARNING:tensorflow:From /usr/local/lib/python3.6/dist-packages/keras/backend/tensorflow_backend.py:4432: The name tf.random_uniform is deprecated. Please use tf.random.uniform instead.\n",
            "\n",
            "WARNING:tensorflow:From /usr/local/lib/python3.6/dist-packages/keras/backend/tensorflow_backend.py:148: The name tf.placeholder_with_default is deprecated. Please use tf.compat.v1.placeholder_with_default instead.\n",
            "\n",
            "WARNING:tensorflow:From /usr/local/lib/python3.6/dist-packages/keras/backend/tensorflow_backend.py:3733: calling dropout (from tensorflow.python.ops.nn_ops) with keep_prob is deprecated and will be removed in a future version.\n",
            "Instructions for updating:\n",
            "Please use `rate` instead of `keep_prob`. Rate should be set to `rate = 1 - keep_prob`.\n",
            "WARNING:tensorflow:From /usr/local/lib/python3.6/dist-packages/keras/optimizers.py:793: The name tf.train.Optimizer is deprecated. Please use tf.compat.v1.train.Optimizer instead.\n",
            "\n",
            "WARNING:tensorflow:From /usr/local/lib/python3.6/dist-packages/keras/backend/tensorflow_backend.py:3576: The name tf.log is deprecated. Please use tf.math.log instead.\n",
            "\n",
            "WARNING:tensorflow:From /usr/local/lib/python3.6/dist-packages/tensorflow_core/python/ops/math_grad.py:1424: where (from tensorflow.python.ops.array_ops) is deprecated and will be removed in a future version.\n",
            "Instructions for updating:\n",
            "Use tf.where in 2.0, which has the same broadcast rule as np.where\n",
            "WARNING:tensorflow:From /usr/local/lib/python3.6/dist-packages/keras/backend/tensorflow_backend.py:1033: The name tf.assign_add is deprecated. Please use tf.compat.v1.assign_add instead.\n",
            "\n",
            "WARNING:tensorflow:From /usr/local/lib/python3.6/dist-packages/keras/backend/tensorflow_backend.py:1020: The name tf.assign is deprecated. Please use tf.compat.v1.assign instead.\n",
            "\n",
            "WARNING:tensorflow:From /usr/local/lib/python3.6/dist-packages/keras/backend/tensorflow_backend.py:3005: The name tf.Session is deprecated. Please use tf.compat.v1.Session instead.\n",
            "\n",
            "Train on 7200 samples, validate on 900 samples\n",
            "Epoch 1/5\n",
            "WARNING:tensorflow:From /usr/local/lib/python3.6/dist-packages/keras/backend/tensorflow_backend.py:190: The name tf.get_default_session is deprecated. Please use tf.compat.v1.get_default_session instead.\n",
            "\n",
            "WARNING:tensorflow:From /usr/local/lib/python3.6/dist-packages/keras/backend/tensorflow_backend.py:197: The name tf.ConfigProto is deprecated. Please use tf.compat.v1.ConfigProto instead.\n",
            "\n",
            "WARNING:tensorflow:From /usr/local/lib/python3.6/dist-packages/keras/backend/tensorflow_backend.py:207: The name tf.global_variables is deprecated. Please use tf.compat.v1.global_variables instead.\n",
            "\n",
            "WARNING:tensorflow:From /usr/local/lib/python3.6/dist-packages/keras/backend/tensorflow_backend.py:216: The name tf.is_variable_initialized is deprecated. Please use tf.compat.v1.is_variable_initialized instead.\n",
            "\n",
            "WARNING:tensorflow:From /usr/local/lib/python3.6/dist-packages/keras/backend/tensorflow_backend.py:223: The name tf.variables_initializer is deprecated. Please use tf.compat.v1.variables_initializer instead.\n",
            "\n",
            "7200/7200 [==============================] - 9s 1ms/step - loss: 0.4825 - val_loss: 0.2730\n",
            "Epoch 2/5\n",
            "7200/7200 [==============================] - 1s 115us/step - loss: 0.2642 - val_loss: 0.2489\n",
            "Epoch 3/5\n",
            "7200/7200 [==============================] - 1s 112us/step - loss: 0.1991 - val_loss: 0.2546\n",
            "Epoch 4/5\n",
            "7200/7200 [==============================] - 1s 104us/step - loss: 0.1679 - val_loss: 0.2335\n",
            "Epoch 5/5\n",
            "7200/7200 [==============================] - 1s 118us/step - loss: 0.1395 - val_loss: 0.2456\n"
          ],
          "name": "stdout"
        },
        {
          "output_type": "execute_result",
          "data": {
            "text/plain": [
              "<keras.callbacks.History at 0x7f4e1cf424e0>"
            ]
          },
          "metadata": {
            "tags": []
          },
          "execution_count": 15
        }
      ]
    },
    {
      "cell_type": "code",
      "metadata": {
        "id": "SQfp3KKgWvm8",
        "colab_type": "code",
        "colab": {
          "base_uri": "https://localhost:8080/",
          "height": 1000
        },
        "outputId": "b419c40b-4459-461a-8254-d7e324f79c54"
      },
      "source": [
        "# LSTM\n",
        "token = text.Tokenizer(num_words=None)\n",
        "max_len = 70\n",
        "\n",
        "token.fit_on_texts(list(xtrain) + list(xvalid))\n",
        "xtrain_seq = token.texts_to_sequences(xtrain)\n",
        "xvalid_seq = token.texts_to_sequences(xvalid)\n",
        "\n",
        "# zero pad the sequences\n",
        "xtrain_pad = sequence.pad_sequences(xtrain_seq, maxlen=max_len)\n",
        "xvalid_pad = sequence.pad_sequences(xvalid_seq, maxlen=max_len)\n",
        "word_index = token.word_index\n",
        "\n",
        "embedding_matrix = np.zeros((len(word_index) + 1, 300))\n",
        "for word, i in tqdm(word_index.items()):\n",
        "    embedding_vector = embeddings_index.get(word)\n",
        "    if embedding_vector is not None:\n",
        "        embedding_matrix[i] = embedding_vector\n",
        "\n",
        "# A simple LSTM with glove embeddings and two dense layers\n",
        "model = Sequential()\n",
        "model.add(Embedding(len(word_index) + 1,\n",
        "                     300,\n",
        "                     weights=[embedding_matrix],\n",
        "                     input_length=max_len,\n",
        "                     trainable=False))\n",
        "model.add(SpatialDropout1D(0.3))\n",
        "model.add(LSTM(100, dropout=0.3, recurrent_dropout=0.3))\n",
        "\n",
        "model.add(Dense(1024, activation='relu'))\n",
        "model.add(Dropout(0.8))\n",
        "\n",
        "model.add(Dense(1024, activation='relu'))\n",
        "model.add(Dropout(0.8))\n",
        "\n",
        "model.add(Dense(3))\n",
        "model.add(Activation('softmax'))\n",
        "model.compile(loss='categorical_crossentropy', optimizer='adam')\n",
        "\n",
        "earlystop = EarlyStopping(monitor='val_loss', min_delta=0, patience=3, verbose=0, mode='auto')\n",
        "model.fit(xtrain_pad,\n",
        "          y=ytrain_enc,\n",
        "          batch_size=512,\n",
        "          epochs=100, \n",
        "          verbose=1,\n",
        "          validation_data=(xvalid_pad, yvalid_enc),\n",
        "          callbacks=[earlystop])"
      ],
      "execution_count": 16,
      "outputs": [
        {
          "output_type": "stream",
          "text": [
            "100%|██████████| 31382/31382 [00:00<00:00, 522007.07it/s]\n"
          ],
          "name": "stderr"
        },
        {
          "output_type": "stream",
          "text": [
            "WARNING:tensorflow:Large dropout rate: 0.8 (>0.5). In TensorFlow 2.x, dropout() uses dropout rate instead of keep_prob. Please ensure that this is intended.\n",
            "WARNING:tensorflow:Large dropout rate: 0.8 (>0.5). In TensorFlow 2.x, dropout() uses dropout rate instead of keep_prob. Please ensure that this is intended.\n",
            "Train on 7200 samples, validate on 900 samples\n",
            "Epoch 1/100\n",
            "7200/7200 [==============================] - 3s 382us/step - loss: 1.1068 - val_loss: 1.0563\n",
            "Epoch 2/100\n",
            "7200/7200 [==============================] - 2s 262us/step - loss: 1.0561 - val_loss: 0.9654\n",
            "Epoch 3/100\n",
            "7200/7200 [==============================] - 2s 260us/step - loss: 0.9717 - val_loss: 0.6923\n",
            "Epoch 4/100\n",
            "7200/7200 [==============================] - 2s 278us/step - loss: 0.8319 - val_loss: 0.5786\n",
            "Epoch 5/100\n",
            "7200/7200 [==============================] - 2s 232us/step - loss: 0.7711 - val_loss: 0.4971\n",
            "Epoch 6/100\n",
            "7200/7200 [==============================] - 2s 250us/step - loss: 0.7074 - val_loss: 0.4626\n",
            "Epoch 7/100\n",
            "7200/7200 [==============================] - 2s 274us/step - loss: 0.6805 - val_loss: 0.4425\n",
            "Epoch 8/100\n",
            "7200/7200 [==============================] - 2s 271us/step - loss: 0.6346 - val_loss: 0.4172\n",
            "Epoch 9/100\n",
            "7200/7200 [==============================] - 2s 252us/step - loss: 0.5946 - val_loss: 0.3981\n",
            "Epoch 10/100\n",
            "7200/7200 [==============================] - 2s 241us/step - loss: 0.5709 - val_loss: 0.3899\n",
            "Epoch 11/100\n",
            "7200/7200 [==============================] - 2s 235us/step - loss: 0.5328 - val_loss: 0.3478\n",
            "Epoch 12/100\n",
            "7200/7200 [==============================] - 2s 239us/step - loss: 0.5056 - val_loss: 0.3146\n",
            "Epoch 13/100\n",
            "7200/7200 [==============================] - 2s 239us/step - loss: 0.4807 - val_loss: 0.3046\n",
            "Epoch 14/100\n",
            "7200/7200 [==============================] - 2s 255us/step - loss: 0.4791 - val_loss: 0.2895\n",
            "Epoch 15/100\n",
            "7200/7200 [==============================] - 2s 232us/step - loss: 0.4403 - val_loss: 0.2560\n",
            "Epoch 16/100\n",
            "7200/7200 [==============================] - 2s 245us/step - loss: 0.4251 - val_loss: 0.2448\n",
            "Epoch 17/100\n",
            "7200/7200 [==============================] - 2s 298us/step - loss: 0.3958 - val_loss: 0.2441\n",
            "Epoch 18/100\n",
            "7200/7200 [==============================] - 2s 277us/step - loss: 0.3798 - val_loss: 0.2228\n",
            "Epoch 19/100\n",
            "7200/7200 [==============================] - 2s 256us/step - loss: 0.3824 - val_loss: 0.2161\n",
            "Epoch 20/100\n",
            "7200/7200 [==============================] - 2s 247us/step - loss: 0.3623 - val_loss: 0.2141\n",
            "Epoch 21/100\n",
            "7200/7200 [==============================] - 2s 253us/step - loss: 0.3569 - val_loss: 0.2075\n",
            "Epoch 22/100\n",
            "7200/7200 [==============================] - 2s 234us/step - loss: 0.3372 - val_loss: 0.2110\n",
            "Epoch 23/100\n",
            "7200/7200 [==============================] - 2s 224us/step - loss: 0.3218 - val_loss: 0.2027\n",
            "Epoch 24/100\n",
            "7200/7200 [==============================] - 2s 252us/step - loss: 0.3062 - val_loss: 0.1906\n",
            "Epoch 25/100\n",
            "7200/7200 [==============================] - 2s 247us/step - loss: 0.3218 - val_loss: 0.1975\n",
            "Epoch 26/100\n",
            "7200/7200 [==============================] - 2s 234us/step - loss: 0.3058 - val_loss: 0.1901\n",
            "Epoch 27/100\n",
            "7200/7200 [==============================] - 2s 265us/step - loss: 0.2871 - val_loss: 0.2021\n",
            "Epoch 28/100\n",
            "7200/7200 [==============================] - 2s 260us/step - loss: 0.2815 - val_loss: 0.1804\n",
            "Epoch 29/100\n",
            "7200/7200 [==============================] - 2s 255us/step - loss: 0.2887 - val_loss: 0.1852\n",
            "Epoch 30/100\n",
            "7200/7200 [==============================] - 2s 257us/step - loss: 0.2713 - val_loss: 0.1781\n",
            "Epoch 31/100\n",
            "7200/7200 [==============================] - 2s 243us/step - loss: 0.2607 - val_loss: 0.1715\n",
            "Epoch 32/100\n",
            "7200/7200 [==============================] - 2s 253us/step - loss: 0.2563 - val_loss: 0.1760\n",
            "Epoch 33/100\n",
            "7200/7200 [==============================] - 2s 253us/step - loss: 0.2510 - val_loss: 0.1699\n",
            "Epoch 34/100\n",
            "7200/7200 [==============================] - 2s 272us/step - loss: 0.2465 - val_loss: 0.1658\n",
            "Epoch 35/100\n",
            "7200/7200 [==============================] - 2s 262us/step - loss: 0.2491 - val_loss: 0.1653\n",
            "Epoch 36/100\n",
            "7200/7200 [==============================] - 2s 255us/step - loss: 0.2361 - val_loss: 0.1600\n",
            "Epoch 37/100\n",
            "7200/7200 [==============================] - 2s 262us/step - loss: 0.2294 - val_loss: 0.1592\n",
            "Epoch 38/100\n",
            "7200/7200 [==============================] - 2s 262us/step - loss: 0.2382 - val_loss: 0.1677\n",
            "Epoch 39/100\n",
            "7200/7200 [==============================] - 2s 258us/step - loss: 0.2212 - val_loss: 0.1586\n",
            "Epoch 40/100\n",
            "7200/7200 [==============================] - 2s 267us/step - loss: 0.2263 - val_loss: 0.1584\n",
            "Epoch 41/100\n",
            "7200/7200 [==============================] - 2s 242us/step - loss: 0.2031 - val_loss: 0.1578\n",
            "Epoch 42/100\n",
            "7200/7200 [==============================] - 2s 245us/step - loss: 0.2258 - val_loss: 0.1636\n",
            "Epoch 43/100\n",
            "7200/7200 [==============================] - 2s 228us/step - loss: 0.2088 - val_loss: 0.1568\n",
            "Epoch 44/100\n",
            "7200/7200 [==============================] - 2s 232us/step - loss: 0.1948 - val_loss: 0.1562\n",
            "Epoch 45/100\n",
            "7200/7200 [==============================] - 2s 250us/step - loss: 0.2050 - val_loss: 0.1651\n",
            "Epoch 46/100\n",
            "7200/7200 [==============================] - 2s 247us/step - loss: 0.2001 - val_loss: 0.1634\n",
            "Epoch 47/100\n",
            "7200/7200 [==============================] - 2s 257us/step - loss: 0.1953 - val_loss: 0.1686\n"
          ],
          "name": "stdout"
        },
        {
          "output_type": "execute_result",
          "data": {
            "text/plain": [
              "<keras.callbacks.History at 0x7f4db432a240>"
            ]
          },
          "metadata": {
            "tags": []
          },
          "execution_count": 16
        }
      ]
    },
    {
      "cell_type": "code",
      "metadata": {
        "id": "aW-rgdWqWiRw",
        "colab_type": "code",
        "colab": {
          "base_uri": "https://localhost:8080/",
          "height": 1000
        },
        "outputId": "7edafa02-717f-4bf3-ea87-5a95b74835f4"
      },
      "source": [
        "# GRU with glove embeddings and two dense layers\n",
        "model = Sequential()\n",
        "model.add(Embedding(len(word_index) + 1,\n",
        "                     300,\n",
        "                     weights=[embedding_matrix],\n",
        "                     input_length=max_len,\n",
        "                     trainable=False))\n",
        "model.add(SpatialDropout1D(0.3))\n",
        "model.add(GRU(300, dropout=0.3, recurrent_dropout=0.3, return_sequences=True))\n",
        "model.add(GRU(300, dropout=0.3, recurrent_dropout=0.3))\n",
        "\n",
        "model.add(Dense(1024, activation='relu'))\n",
        "model.add(Dropout(0.8))\n",
        "\n",
        "model.add(Dense(1024, activation='relu'))\n",
        "model.add(Dropout(0.8))\n",
        "\n",
        "model.add(Dense(3))\n",
        "model.add(Activation('softmax'))\n",
        "model.compile(optimizer='adam', loss='categorical_crossentropy')\n",
        "\n",
        "# Fit the model with early stopping callback\n",
        "earlystop = EarlyStopping(monitor='val_loss', min_delta=0, patience=3, verbose=0, mode='auto')\n",
        "\n",
        "model.fit(xtrain_pad, y=ytrain_enc, batch_size=512, epochs=100, \n",
        "          verbose=1, validation_data=(xvalid_pad, yvalid_enc), callbacks=[earlystop])"
      ],
      "execution_count": 17,
      "outputs": [
        {
          "output_type": "stream",
          "text": [
            "WARNING:tensorflow:Large dropout rate: 0.8 (>0.5). In TensorFlow 2.x, dropout() uses dropout rate instead of keep_prob. Please ensure that this is intended.\n",
            "WARNING:tensorflow:Large dropout rate: 0.8 (>0.5). In TensorFlow 2.x, dropout() uses dropout rate instead of keep_prob. Please ensure that this is intended.\n",
            "Train on 7200 samples, validate on 900 samples\n",
            "Epoch 1/100\n",
            "7200/7200 [==============================] - 6s 793us/step - loss: 1.1332 - val_loss: 1.0500\n",
            "Epoch 2/100\n",
            "7200/7200 [==============================] - 4s 546us/step - loss: 1.0780 - val_loss: 0.9561\n",
            "Epoch 3/100\n",
            "7200/7200 [==============================] - 4s 533us/step - loss: 1.0011 - val_loss: 0.8831\n",
            "Epoch 4/100\n",
            "7200/7200 [==============================] - 4s 541us/step - loss: 0.9277 - val_loss: 0.7337\n",
            "Epoch 5/100\n",
            "7200/7200 [==============================] - 4s 547us/step - loss: 0.8354 - val_loss: 0.6572\n",
            "Epoch 6/100\n",
            "7200/7200 [==============================] - 4s 546us/step - loss: 0.7598 - val_loss: 0.5399\n",
            "Epoch 7/100\n",
            "7200/7200 [==============================] - 4s 542us/step - loss: 0.6445 - val_loss: 0.4082\n",
            "Epoch 8/100\n",
            "7200/7200 [==============================] - 4s 548us/step - loss: 0.5345 - val_loss: 0.3432\n",
            "Epoch 9/100\n",
            "7200/7200 [==============================] - 4s 553us/step - loss: 0.4750 - val_loss: 0.2897\n",
            "Epoch 10/100\n",
            "7200/7200 [==============================] - 4s 538us/step - loss: 0.4398 - val_loss: 0.2734\n",
            "Epoch 11/100\n",
            "7200/7200 [==============================] - 4s 542us/step - loss: 0.4032 - val_loss: 0.2955\n",
            "Epoch 12/100\n",
            "7200/7200 [==============================] - 4s 537us/step - loss: 0.4045 - val_loss: 0.2466\n",
            "Epoch 13/100\n",
            "7200/7200 [==============================] - 4s 535us/step - loss: 0.3705 - val_loss: 0.2323\n",
            "Epoch 14/100\n",
            "7200/7200 [==============================] - 4s 543us/step - loss: 0.3373 - val_loss: 0.2190\n",
            "Epoch 15/100\n",
            "7200/7200 [==============================] - 4s 550us/step - loss: 0.3305 - val_loss: 0.2263\n",
            "Epoch 16/100\n",
            "7200/7200 [==============================] - 4s 543us/step - loss: 0.3240 - val_loss: 0.2140\n",
            "Epoch 17/100\n",
            "7200/7200 [==============================] - 4s 558us/step - loss: 0.3058 - val_loss: 0.2241\n",
            "Epoch 18/100\n",
            "7200/7200 [==============================] - 4s 536us/step - loss: 0.2989 - val_loss: 0.1893\n",
            "Epoch 19/100\n",
            "7200/7200 [==============================] - 4s 556us/step - loss: 0.2914 - val_loss: 0.1994\n",
            "Epoch 20/100\n",
            "7200/7200 [==============================] - 4s 557us/step - loss: 0.2815 - val_loss: 0.1965\n",
            "Epoch 21/100\n",
            "7200/7200 [==============================] - 4s 538us/step - loss: 0.2637 - val_loss: 0.1775\n",
            "Epoch 22/100\n",
            "7200/7200 [==============================] - 4s 560us/step - loss: 0.2500 - val_loss: 0.1876\n",
            "Epoch 23/100\n",
            "7200/7200 [==============================] - 4s 570us/step - loss: 0.2512 - val_loss: 0.2291\n",
            "Epoch 24/100\n",
            "7200/7200 [==============================] - 4s 562us/step - loss: 0.2691 - val_loss: 0.1772\n",
            "Epoch 25/100\n",
            "7200/7200 [==============================] - 4s 540us/step - loss: 0.2403 - val_loss: 0.1788\n",
            "Epoch 26/100\n",
            "7200/7200 [==============================] - 4s 536us/step - loss: 0.2352 - val_loss: 0.1684\n",
            "Epoch 27/100\n",
            "7200/7200 [==============================] - 4s 548us/step - loss: 0.2170 - val_loss: 0.1610\n",
            "Epoch 28/100\n",
            "7200/7200 [==============================] - 4s 566us/step - loss: 0.1988 - val_loss: 0.1645\n",
            "Epoch 29/100\n",
            "7200/7200 [==============================] - 4s 549us/step - loss: 0.2000 - val_loss: 0.1597\n",
            "Epoch 30/100\n",
            "7200/7200 [==============================] - 4s 542us/step - loss: 0.2069 - val_loss: 0.1662\n",
            "Epoch 31/100\n",
            "7200/7200 [==============================] - 4s 544us/step - loss: 0.2036 - val_loss: 0.1629\n",
            "Epoch 32/100\n",
            "7200/7200 [==============================] - 4s 552us/step - loss: 0.1987 - val_loss: 0.1628\n"
          ],
          "name": "stdout"
        },
        {
          "output_type": "execute_result",
          "data": {
            "text/plain": [
              "<keras.callbacks.History at 0x7f4da737bba8>"
            ]
          },
          "metadata": {
            "tags": []
          },
          "execution_count": 17
        }
      ]
    },
    {
      "cell_type": "markdown",
      "metadata": {
        "id": "wCBDANgiPeCU",
        "colab_type": "text"
      },
      "source": [
        "### DistilBERT + DNN "
      ]
    },
    {
      "cell_type": "code",
      "metadata": {
        "id": "A1xfQOckhoy6",
        "colab_type": "code",
        "outputId": "1f60c659-0a93-4d61-b20f-8d45e42c5241",
        "colab": {
          "base_uri": "https://localhost:8080/",
          "height": 34
        }
      },
      "source": [
        "from keras.models import Sequential, Model, load_model\n",
        "from keras.layers import Embedding, LSTM, Dense, Input, Dropout, GRU, Conv1D, MaxPooling1D, BatchNormalization, Activation, concatenate\n",
        "from keras.layers import Bidirectional, Flatten, RepeatVector, Permute, Multiply, Lambda, TimeDistributed\n",
        "from keras import backend as K\n",
        "\n",
        "from keras.regularizers import l2\n",
        "from keras.optimizers import Adam\n",
        "from keras.callbacks import EarlyStopping, ModelCheckpoint"
      ],
      "execution_count": 9,
      "outputs": [
        {
          "output_type": "stream",
          "text": [
            "Using TensorFlow backend.\n"
          ],
          "name": "stderr"
        }
      ]
    },
    {
      "cell_type": "code",
      "metadata": {
        "colab_type": "code",
        "id": "BSx72UGsw2SP",
        "colab": {}
      },
      "source": [
        "# from keras.wrappers.scikit_learn import KerasClassifier\n",
        "\n",
        "# def nn_model(): \n",
        "#   units = 1024\n",
        "#   lr = 0.0005\n",
        "#   patience = 5\n",
        "#   batch = 32\n",
        "  \n",
        "#   inputs = Input(shape=(768,), dtype='float32')\n",
        "#   c = Dense(units)(inputs)\n",
        "#   x = BatchNormalization()(c)\n",
        "#   x = Dropout(0.5)(x)\n",
        "#   x = Activation('relu')(x)\n",
        "#   c = concatenate([x, c])\n",
        "\n",
        "#   def FFUnit(c):\n",
        "#     x = Dense(units)(c)\n",
        "#     x = BatchNormalization()(x)\n",
        "#     x = Dropout(0.5)(x)\n",
        "#     x = Activation('relu')(x)\n",
        "#     c = concatenate([x, c])\n",
        "#     return c\n",
        "\n",
        "#   for i in range(6):\n",
        "#     c = FFUnit(c)\n",
        "\n",
        "#   x = Dense(3)(c)\n",
        "#   x = BatchNormalization()(x)\n",
        "#   outputs = Activation('softmax')(x)\n",
        "\n",
        "#   model = Model(inputs=inputs, outputs=outputs)\n",
        "\n",
        "#   model.compile(optimizer=Adam(lr=lr),\n",
        "#                 loss=\"categorical_crossentropy\",\n",
        "#                 metrics=[\"acc\"])\n",
        "#   return model\n",
        "\n",
        "# model = KerasClassifier(build_fn=nn_model, verbose=0, epochs=100)\n",
        "\n",
        "# param_grid = dict(lr = 10 ** (np.random.rand(4) - 5), batch_size=[16,32], units=[1024, 2048])\n",
        "# grid = GridSearchCV(estimator=model, param_grid=param_grid, n_jobs=-1, cv=3, scoring='roc_auc')\n",
        "# grid_result = grid.fit(X_val, y_val)"
      ],
      "execution_count": 0,
      "outputs": []
    },
    {
      "cell_type": "code",
      "metadata": {
        "id": "XlkcRUCNhv36",
        "colab_type": "code",
        "outputId": "7da51a79-019f-4b29-ab25-f2b1ee8e813d",
        "colab": {
          "base_uri": "https://localhost:8080/",
          "height": 1000
        }
      },
      "source": [
        "units = 1024\n",
        "lr = 0.0005\n",
        "patience = 5\n",
        "batch = 32\n",
        "\n",
        "\n",
        "inputs = Input(shape=(768,), dtype='float32')\n",
        "c = Dense(units)(inputs)\n",
        "x = BatchNormalization()(c)\n",
        "x = Dropout(0.5)(x)\n",
        "x = Activation('relu')(x)\n",
        "c = concatenate([x, c])\n",
        "\n",
        "def FFUnit(c):\n",
        "  x = Dense(units)(c)\n",
        "  x = BatchNormalization()(x)\n",
        "  x = Dropout(0.5)(x)\n",
        "  x = Activation('relu')(x)\n",
        "  c = concatenate([x, c])\n",
        "  return c\n",
        "\n",
        "for i in range(6):\n",
        "  c = FFUnit(c)\n",
        "\n",
        "x = Dense(3)(c)\n",
        "x = BatchNormalization()(x)\n",
        "outputs = Activation('softmax')(x)\n",
        "\n",
        "model = Model(inputs=inputs, outputs=outputs)\n",
        "\n",
        "model.summary()\n",
        "\n",
        "model.compile(optimizer=Adam(lr=lr),\n",
        "              loss=\"categorical_crossentropy\",\n",
        "              metrics=[\"acc\"])\n",
        "\n",
        "model.fit(x=X_train,\n",
        "          y=y_train,\n",
        "          validation_data=[X_val, y_val],\n",
        "          epochs=patience, \n",
        "          batch_size=batch)\n",
        "\n",
        "cb = EarlyStopping(monitor='val_loss', \n",
        "                   mode='min', \n",
        "                   verbose=0, \n",
        "                   patience=patience,\n",
        "                   restore_best_weights=True)\n",
        "\n",
        "model.compile(optimizer=Adam(lr=lr/3),\n",
        "              loss=\"categorical_crossentropy\",\n",
        "              metrics=[\"acc\"])\n",
        "\n",
        "model.fit(x=X_train, \n",
        "          y=y_train,\n",
        "          validation_data=[X_val, y_val],\n",
        "          epochs=99, \n",
        "          batch_size=batch,\n",
        "          callbacks=[cb])\n",
        "\n",
        "model.compile(optimizer=Adam(lr=lr/6),\n",
        "              loss=\"categorical_crossentropy\",\n",
        "              metrics=[\"acc\"])\n",
        "\n",
        "model.fit(x=X_train, \n",
        "          y=y_train,\n",
        "          validation_data=[X_val, y_val],\n",
        "          epochs=99, \n",
        "          batch_size=batch,\n",
        "          callbacks=[cb])\n",
        "\n",
        "\n",
        "print('===Evaluation===')\n",
        "model.evaluate(X_test, y_test)"
      ],
      "execution_count": 34,
      "outputs": [
        {
          "output_type": "stream",
          "text": [
            "Model: \"model_5\"\n",
            "__________________________________________________________________________________________________\n",
            "Layer (type)                    Output Shape         Param #     Connected to                     \n",
            "==================================================================================================\n",
            "input_6 (InputLayer)            (None, 768)          0                                            \n",
            "__________________________________________________________________________________________________\n",
            "dense_42 (Dense)                (None, 1024)         787456      input_6[0][0]                    \n",
            "__________________________________________________________________________________________________\n",
            "batch_normalization_35 (BatchNo (None, 1024)         4096        dense_42[0][0]                   \n",
            "__________________________________________________________________________________________________\n",
            "dropout_35 (Dropout)            (None, 1024)         0           batch_normalization_35[0][0]     \n",
            "__________________________________________________________________________________________________\n",
            "activation_36 (Activation)      (None, 1024)         0           dropout_35[0][0]                 \n",
            "__________________________________________________________________________________________________\n",
            "concatenate_29 (Concatenate)    (None, 2048)         0           activation_36[0][0]              \n",
            "                                                                 dense_42[0][0]                   \n",
            "__________________________________________________________________________________________________\n",
            "dense_43 (Dense)                (None, 1024)         2098176     concatenate_29[0][0]             \n",
            "__________________________________________________________________________________________________\n",
            "batch_normalization_36 (BatchNo (None, 1024)         4096        dense_43[0][0]                   \n",
            "__________________________________________________________________________________________________\n",
            "dropout_36 (Dropout)            (None, 1024)         0           batch_normalization_36[0][0]     \n",
            "__________________________________________________________________________________________________\n",
            "activation_37 (Activation)      (None, 1024)         0           dropout_36[0][0]                 \n",
            "__________________________________________________________________________________________________\n",
            "concatenate_30 (Concatenate)    (None, 3072)         0           activation_37[0][0]              \n",
            "                                                                 concatenate_29[0][0]             \n",
            "__________________________________________________________________________________________________\n",
            "dense_44 (Dense)                (None, 1024)         3146752     concatenate_30[0][0]             \n",
            "__________________________________________________________________________________________________\n",
            "batch_normalization_37 (BatchNo (None, 1024)         4096        dense_44[0][0]                   \n",
            "__________________________________________________________________________________________________\n",
            "dropout_37 (Dropout)            (None, 1024)         0           batch_normalization_37[0][0]     \n",
            "__________________________________________________________________________________________________\n",
            "activation_38 (Activation)      (None, 1024)         0           dropout_37[0][0]                 \n",
            "__________________________________________________________________________________________________\n",
            "concatenate_31 (Concatenate)    (None, 4096)         0           activation_38[0][0]              \n",
            "                                                                 concatenate_30[0][0]             \n",
            "__________________________________________________________________________________________________\n",
            "dense_45 (Dense)                (None, 1024)         4195328     concatenate_31[0][0]             \n",
            "__________________________________________________________________________________________________\n",
            "batch_normalization_38 (BatchNo (None, 1024)         4096        dense_45[0][0]                   \n",
            "__________________________________________________________________________________________________\n",
            "dropout_38 (Dropout)            (None, 1024)         0           batch_normalization_38[0][0]     \n",
            "__________________________________________________________________________________________________\n",
            "activation_39 (Activation)      (None, 1024)         0           dropout_38[0][0]                 \n",
            "__________________________________________________________________________________________________\n",
            "concatenate_32 (Concatenate)    (None, 5120)         0           activation_39[0][0]              \n",
            "                                                                 concatenate_31[0][0]             \n",
            "__________________________________________________________________________________________________\n",
            "dense_46 (Dense)                (None, 1024)         5243904     concatenate_32[0][0]             \n",
            "__________________________________________________________________________________________________\n",
            "batch_normalization_39 (BatchNo (None, 1024)         4096        dense_46[0][0]                   \n",
            "__________________________________________________________________________________________________\n",
            "dropout_39 (Dropout)            (None, 1024)         0           batch_normalization_39[0][0]     \n",
            "__________________________________________________________________________________________________\n",
            "activation_40 (Activation)      (None, 1024)         0           dropout_39[0][0]                 \n",
            "__________________________________________________________________________________________________\n",
            "concatenate_33 (Concatenate)    (None, 6144)         0           activation_40[0][0]              \n",
            "                                                                 concatenate_32[0][0]             \n",
            "__________________________________________________________________________________________________\n",
            "dense_47 (Dense)                (None, 1024)         6292480     concatenate_33[0][0]             \n",
            "__________________________________________________________________________________________________\n",
            "batch_normalization_40 (BatchNo (None, 1024)         4096        dense_47[0][0]                   \n",
            "__________________________________________________________________________________________________\n",
            "dropout_40 (Dropout)            (None, 1024)         0           batch_normalization_40[0][0]     \n",
            "__________________________________________________________________________________________________\n",
            "activation_41 (Activation)      (None, 1024)         0           dropout_40[0][0]                 \n",
            "__________________________________________________________________________________________________\n",
            "concatenate_34 (Concatenate)    (None, 7168)         0           activation_41[0][0]              \n",
            "                                                                 concatenate_33[0][0]             \n",
            "__________________________________________________________________________________________________\n",
            "dense_48 (Dense)                (None, 1024)         7341056     concatenate_34[0][0]             \n",
            "__________________________________________________________________________________________________\n",
            "batch_normalization_41 (BatchNo (None, 1024)         4096        dense_48[0][0]                   \n",
            "__________________________________________________________________________________________________\n",
            "dropout_41 (Dropout)            (None, 1024)         0           batch_normalization_41[0][0]     \n",
            "__________________________________________________________________________________________________\n",
            "activation_42 (Activation)      (None, 1024)         0           dropout_41[0][0]                 \n",
            "__________________________________________________________________________________________________\n",
            "concatenate_35 (Concatenate)    (None, 8192)         0           activation_42[0][0]              \n",
            "                                                                 concatenate_34[0][0]             \n",
            "__________________________________________________________________________________________________\n",
            "dense_49 (Dense)                (None, 3)            24579       concatenate_35[0][0]             \n",
            "__________________________________________________________________________________________________\n",
            "batch_normalization_42 (BatchNo (None, 3)            12          dense_49[0][0]                   \n",
            "__________________________________________________________________________________________________\n",
            "activation_43 (Activation)      (None, 3)            0           batch_normalization_42[0][0]     \n",
            "==================================================================================================\n",
            "Total params: 29,158,415\n",
            "Trainable params: 29,144,073\n",
            "Non-trainable params: 14,342\n",
            "__________________________________________________________________________________________________\n",
            "Train on 7200 samples, validate on 900 samples\n",
            "Epoch 1/5\n",
            "7200/7200 [==============================] - 15s 2ms/step - loss: 0.3470 - acc: 0.9401 - val_loss: 0.2330 - val_acc: 0.9689\n",
            "Epoch 2/5\n",
            "7200/7200 [==============================] - 10s 1ms/step - loss: 0.2480 - acc: 0.9665 - val_loss: 0.2300 - val_acc: 0.9567\n",
            "Epoch 3/5\n",
            "7200/7200 [==============================] - 10s 1ms/step - loss: 0.1986 - acc: 0.9749 - val_loss: 0.1684 - val_acc: 0.9678\n",
            "Epoch 4/5\n",
            "7200/7200 [==============================] - 10s 1ms/step - loss: 0.1703 - acc: 0.9775 - val_loss: 0.1481 - val_acc: 0.9778\n",
            "Epoch 5/5\n",
            "7200/7200 [==============================] - 10s 1ms/step - loss: 0.1504 - acc: 0.9786 - val_loss: 0.1516 - val_acc: 0.9689\n",
            "Train on 7200 samples, validate on 900 samples\n",
            "Epoch 1/99\n",
            "7200/7200 [==============================] - 15s 2ms/step - loss: 0.1299 - acc: 0.9835 - val_loss: 0.1344 - val_acc: 0.9822\n",
            "Epoch 2/99\n",
            "7200/7200 [==============================] - 10s 1ms/step - loss: 0.1192 - acc: 0.9863 - val_loss: 0.1299 - val_acc: 0.9800\n",
            "Epoch 3/99\n",
            "7200/7200 [==============================] - 10s 1ms/step - loss: 0.1071 - acc: 0.9885 - val_loss: 0.1175 - val_acc: 0.9822\n",
            "Epoch 4/99\n",
            "7200/7200 [==============================] - 10s 1ms/step - loss: 0.1023 - acc: 0.9906 - val_loss: 0.1126 - val_acc: 0.9800\n",
            "Epoch 5/99\n",
            "7200/7200 [==============================] - 10s 1ms/step - loss: 0.0950 - acc: 0.9911 - val_loss: 0.1354 - val_acc: 0.9689\n",
            "Epoch 6/99\n",
            "7200/7200 [==============================] - 10s 1ms/step - loss: 0.0921 - acc: 0.9921 - val_loss: 0.1003 - val_acc: 0.9833\n",
            "Epoch 7/99\n",
            "7200/7200 [==============================] - 10s 1ms/step - loss: 0.0820 - acc: 0.9936 - val_loss: 0.0916 - val_acc: 0.9867\n",
            "Epoch 8/99\n",
            "7200/7200 [==============================] - 10s 1ms/step - loss: 0.0808 - acc: 0.9939 - val_loss: 0.0877 - val_acc: 0.9822\n",
            "Epoch 9/99\n",
            "7200/7200 [==============================] - 10s 1ms/step - loss: 0.0751 - acc: 0.9944 - val_loss: 0.0933 - val_acc: 0.9867\n",
            "Epoch 10/99\n",
            "7200/7200 [==============================] - 10s 1ms/step - loss: 0.0754 - acc: 0.9931 - val_loss: 0.0974 - val_acc: 0.9833\n",
            "Epoch 11/99\n",
            "7200/7200 [==============================] - 10s 1ms/step - loss: 0.0682 - acc: 0.9949 - val_loss: 0.0913 - val_acc: 0.9878\n",
            "Epoch 12/99\n",
            "7200/7200 [==============================] - 10s 1ms/step - loss: 0.0681 - acc: 0.9931 - val_loss: 0.0847 - val_acc: 0.9878\n",
            "Epoch 13/99\n",
            "7200/7200 [==============================] - 10s 1ms/step - loss: 0.0590 - acc: 0.9960 - val_loss: 0.0825 - val_acc: 0.9867\n",
            "Epoch 14/99\n",
            "7200/7200 [==============================] - 10s 1ms/step - loss: 0.0581 - acc: 0.9956 - val_loss: 0.0880 - val_acc: 0.9833\n",
            "Epoch 15/99\n",
            "7200/7200 [==============================] - 10s 1ms/step - loss: 0.0516 - acc: 0.9969 - val_loss: 0.0861 - val_acc: 0.9833\n",
            "Epoch 16/99\n",
            "7200/7200 [==============================] - 10s 1ms/step - loss: 0.0526 - acc: 0.9954 - val_loss: 0.0856 - val_acc: 0.9833\n",
            "Epoch 17/99\n",
            "7200/7200 [==============================] - 11s 1ms/step - loss: 0.0545 - acc: 0.9946 - val_loss: 0.0772 - val_acc: 0.9844\n",
            "Epoch 18/99\n",
            "7200/7200 [==============================] - 10s 1ms/step - loss: 0.0463 - acc: 0.9972 - val_loss: 0.0755 - val_acc: 0.9844\n",
            "Epoch 19/99\n",
            "7200/7200 [==============================] - 10s 1ms/step - loss: 0.0476 - acc: 0.9964 - val_loss: 0.0699 - val_acc: 0.9833\n",
            "Epoch 20/99\n",
            "7200/7200 [==============================] - 10s 1ms/step - loss: 0.0403 - acc: 0.9974 - val_loss: 0.0694 - val_acc: 0.9811\n",
            "Epoch 21/99\n",
            "7200/7200 [==============================] - 11s 1ms/step - loss: 0.0408 - acc: 0.9971 - val_loss: 0.0647 - val_acc: 0.9856\n",
            "Epoch 22/99\n",
            "7200/7200 [==============================] - 11s 1ms/step - loss: 0.0363 - acc: 0.9978 - val_loss: 0.0699 - val_acc: 0.9822\n",
            "Epoch 23/99\n",
            "7200/7200 [==============================] - 11s 1ms/step - loss: 0.0365 - acc: 0.9975 - val_loss: 0.0798 - val_acc: 0.9778\n",
            "Epoch 24/99\n",
            "7200/7200 [==============================] - 11s 1ms/step - loss: 0.0340 - acc: 0.9981 - val_loss: 0.0573 - val_acc: 0.9844\n",
            "Epoch 25/99\n",
            "7200/7200 [==============================] - 11s 1ms/step - loss: 0.0327 - acc: 0.9976 - val_loss: 0.0712 - val_acc: 0.9833\n",
            "Epoch 26/99\n",
            "7200/7200 [==============================] - 10s 1ms/step - loss: 0.0333 - acc: 0.9969 - val_loss: 0.0682 - val_acc: 0.9822\n",
            "Epoch 27/99\n",
            "7200/7200 [==============================] - 11s 1ms/step - loss: 0.0340 - acc: 0.9960 - val_loss: 0.0534 - val_acc: 0.9889\n",
            "Epoch 28/99\n",
            "7200/7200 [==============================] - 11s 1ms/step - loss: 0.0267 - acc: 0.9986 - val_loss: 0.0577 - val_acc: 0.9878\n",
            "Epoch 29/99\n",
            "7200/7200 [==============================] - 11s 1ms/step - loss: 0.0295 - acc: 0.9965 - val_loss: 0.0677 - val_acc: 0.9800\n",
            "Epoch 30/99\n",
            "7200/7200 [==============================] - 11s 1ms/step - loss: 0.0274 - acc: 0.9976 - val_loss: 0.0615 - val_acc: 0.9822\n",
            "Epoch 31/99\n",
            "7200/7200 [==============================] - 11s 1ms/step - loss: 0.0241 - acc: 0.9985 - val_loss: 0.0544 - val_acc: 0.9867\n",
            "Epoch 32/99\n",
            "7200/7200 [==============================] - 11s 1ms/step - loss: 0.0243 - acc: 0.9982 - val_loss: 0.0630 - val_acc: 0.9833\n",
            "Train on 7200 samples, validate on 900 samples\n",
            "Epoch 1/99\n",
            "7200/7200 [==============================] - 15s 2ms/step - loss: 0.0298 - acc: 0.9971 - val_loss: 0.0587 - val_acc: 0.9844\n",
            "Epoch 2/99\n",
            "7200/7200 [==============================] - 11s 1ms/step - loss: 0.0243 - acc: 0.9996 - val_loss: 0.0580 - val_acc: 0.9844\n",
            "Epoch 3/99\n",
            "7200/7200 [==============================] - 11s 1ms/step - loss: 0.0263 - acc: 0.9981 - val_loss: 0.0662 - val_acc: 0.9822\n",
            "Epoch 4/99\n",
            "7200/7200 [==============================] - 10s 1ms/step - loss: 0.0242 - acc: 0.9992 - val_loss: 0.0615 - val_acc: 0.9856\n",
            "Epoch 5/99\n",
            "7200/7200 [==============================] - 11s 1ms/step - loss: 0.0223 - acc: 0.9996 - val_loss: 0.0604 - val_acc: 0.9856\n",
            "Epoch 6/99\n",
            "7200/7200 [==============================] - 11s 1ms/step - loss: 0.0241 - acc: 0.9982 - val_loss: 0.0526 - val_acc: 0.9878\n",
            "Epoch 7/99\n",
            "7200/7200 [==============================] - 11s 1ms/step - loss: 0.0213 - acc: 0.9990 - val_loss: 0.0532 - val_acc: 0.9833\n",
            "Epoch 8/99\n",
            "7200/7200 [==============================] - 11s 1ms/step - loss: 0.0202 - acc: 0.9994 - val_loss: 0.0537 - val_acc: 0.9889\n",
            "Epoch 9/99\n",
            "7200/7200 [==============================] - 11s 1ms/step - loss: 0.0226 - acc: 0.9985 - val_loss: 0.0605 - val_acc: 0.9856\n",
            "Epoch 10/99\n",
            "7200/7200 [==============================] - 11s 1ms/step - loss: 0.0210 - acc: 0.9986 - val_loss: 0.0570 - val_acc: 0.9867\n",
            "Epoch 11/99\n",
            "7200/7200 [==============================] - 11s 1ms/step - loss: 0.0214 - acc: 0.9990 - val_loss: 0.0538 - val_acc: 0.9878\n",
            "===Evaluation===\n",
            "900/900 [==============================] - 0s 124us/step\n"
          ],
          "name": "stdout"
        },
        {
          "output_type": "execute_result",
          "data": {
            "text/plain": [
              "[0.05798307673798667, 0.9822222222222222]"
            ]
          },
          "metadata": {
            "tags": []
          },
          "execution_count": 34
        }
      ]
    },
    {
      "cell_type": "code",
      "metadata": {
        "id": "SFQ1kYGgzuF_",
        "colab_type": "code",
        "colab": {}
      },
      "source": [
        "# model.save('./gdrive/My Drive/DL/Style/DistilBERT.h5')"
      ],
      "execution_count": 0,
      "outputs": []
    },
    {
      "cell_type": "code",
      "metadata": {
        "id": "8IE9mP0d1UPX",
        "colab_type": "code",
        "colab": {
          "base_uri": "https://localhost:8080/",
          "height": 615
        },
        "outputId": "65dd337a-05e1-4827-93e7-5f436c6cc243"
      },
      "source": [
        "from keras.models import load_model\n",
        "\n",
        "model = load_model('./gdrive/My Drive/DL/Style/DistilBERT.h5')"
      ],
      "execution_count": 10,
      "outputs": [
        {
          "output_type": "stream",
          "text": [
            "WARNING:tensorflow:From /usr/local/lib/python3.6/dist-packages/keras/backend/tensorflow_backend.py:541: The name tf.placeholder is deprecated. Please use tf.compat.v1.placeholder instead.\n",
            "\n",
            "WARNING:tensorflow:From /usr/local/lib/python3.6/dist-packages/keras/backend/tensorflow_backend.py:4432: The name tf.random_uniform is deprecated. Please use tf.random.uniform instead.\n",
            "\n",
            "WARNING:tensorflow:From /usr/local/lib/python3.6/dist-packages/keras/backend/tensorflow_backend.py:66: The name tf.get_default_graph is deprecated. Please use tf.compat.v1.get_default_graph instead.\n",
            "\n",
            "WARNING:tensorflow:From /usr/local/lib/python3.6/dist-packages/keras/backend/tensorflow_backend.py:148: The name tf.placeholder_with_default is deprecated. Please use tf.compat.v1.placeholder_with_default instead.\n",
            "\n",
            "WARNING:tensorflow:From /usr/local/lib/python3.6/dist-packages/keras/backend/tensorflow_backend.py:3733: calling dropout (from tensorflow.python.ops.nn_ops) with keep_prob is deprecated and will be removed in a future version.\n",
            "Instructions for updating:\n",
            "Please use `rate` instead of `keep_prob`. Rate should be set to `rate = 1 - keep_prob`.\n",
            "WARNING:tensorflow:From /usr/local/lib/python3.6/dist-packages/keras/backend/tensorflow_backend.py:190: The name tf.get_default_session is deprecated. Please use tf.compat.v1.get_default_session instead.\n",
            "\n",
            "WARNING:tensorflow:From /usr/local/lib/python3.6/dist-packages/keras/backend/tensorflow_backend.py:197: The name tf.ConfigProto is deprecated. Please use tf.compat.v1.ConfigProto instead.\n",
            "\n",
            "WARNING:tensorflow:From /usr/local/lib/python3.6/dist-packages/keras/backend/tensorflow_backend.py:203: The name tf.Session is deprecated. Please use tf.compat.v1.Session instead.\n",
            "\n",
            "WARNING:tensorflow:From /usr/local/lib/python3.6/dist-packages/keras/backend/tensorflow_backend.py:207: The name tf.global_variables is deprecated. Please use tf.compat.v1.global_variables instead.\n",
            "\n",
            "WARNING:tensorflow:From /usr/local/lib/python3.6/dist-packages/keras/backend/tensorflow_backend.py:216: The name tf.is_variable_initialized is deprecated. Please use tf.compat.v1.is_variable_initialized instead.\n",
            "\n",
            "WARNING:tensorflow:From /usr/local/lib/python3.6/dist-packages/keras/backend/tensorflow_backend.py:223: The name tf.variables_initializer is deprecated. Please use tf.compat.v1.variables_initializer instead.\n",
            "\n",
            "WARNING:tensorflow:From /usr/local/lib/python3.6/dist-packages/keras/optimizers.py:793: The name tf.train.Optimizer is deprecated. Please use tf.compat.v1.train.Optimizer instead.\n",
            "\n",
            "WARNING:tensorflow:From /usr/local/lib/python3.6/dist-packages/keras/backend/tensorflow_backend.py:3576: The name tf.log is deprecated. Please use tf.math.log instead.\n",
            "\n",
            "WARNING:tensorflow:From /usr/local/lib/python3.6/dist-packages/tensorflow_core/python/ops/math_grad.py:1424: where (from tensorflow.python.ops.array_ops) is deprecated and will be removed in a future version.\n",
            "Instructions for updating:\n",
            "Use tf.where in 2.0, which has the same broadcast rule as np.where\n",
            "WARNING:tensorflow:From /usr/local/lib/python3.6/dist-packages/keras/backend/tensorflow_backend.py:1033: The name tf.assign_add is deprecated. Please use tf.compat.v1.assign_add instead.\n",
            "\n",
            "WARNING:tensorflow:From /usr/local/lib/python3.6/dist-packages/keras/backend/tensorflow_backend.py:1020: The name tf.assign is deprecated. Please use tf.compat.v1.assign instead.\n",
            "\n"
          ],
          "name": "stdout"
        }
      ]
    },
    {
      "cell_type": "code",
      "metadata": {
        "id": "e1lSSd-ykZPK",
        "colab_type": "code",
        "colab": {}
      },
      "source": [
        "X_old_text = pd.DataFrame(X_old_text)\n",
        "X_new_text = pd.DataFrame(X_new_text)\n",
        "\n",
        "Pred_old = model.predict(X_old_text)\n",
        "Pred_new = model.predict(X_new_text)\n",
        "\n",
        "# X1_text = pd.DataFrame(X1_text)\n",
        "# X2_text = pd.DataFrame(X2_text)\n",
        "# X3_text = pd.DataFrame(X3_text)\n",
        "\n",
        "# Pred1 = model.predict(X1_text)[:, 2]\n",
        "# Pred2 = model.predict(X2_text)[:, 2]\n",
        "# Pred3 = model.predict(X3_text)[:, 2]"
      ],
      "execution_count": 0,
      "outputs": []
    },
    {
      "cell_type": "code",
      "metadata": {
        "id": "6X1GpzcNR9bH",
        "colab_type": "code",
        "colab": {}
      },
      "source": [
        "# df['Rand_donor_style'] = Pred1\n",
        "# df['Rand_117M_10000_Nabokov_All_3_style'] = Pred2\n",
        "# df['Rand_unigram_style'] = Pred3\n",
        "# df.to_csv('./gdrive/My Drive/DL/Style/rand_examples.csv')"
      ],
      "execution_count": 0,
      "outputs": []
    },
    {
      "cell_type": "code",
      "metadata": {
        "id": "kSGIYZt1SWc1",
        "colab_type": "code",
        "colab": {}
      },
      "source": [
        "url = 'https://raw.githubusercontent.com/fy164251/text_style_transfer/master/outputs/masked_results.csv'\n",
        "df = pd.read_csv(url).set_index('Unnamed: 0')\n",
        "\n",
        "pred_old, pred_new, pred_delta = [], [], []\n",
        "for i in range(len(X_old)): \n",
        "  if df.label.iloc[i][2] == 'A':\n",
        "    pred_old.append(Pred_old[i][0])\n",
        "    pred_new.append(Pred_new[i][0])\n",
        "  elif df.label.iloc[i][2] == 'D':\n",
        "    pred_old.append(Pred_old[i][1])\n",
        "    pred_new.append(Pred_new[i][1])\n",
        "  else:\n",
        "    pred_old.append(Pred_old[i][2])\n",
        "    pred_new.append(Pred_new[i][2])\n",
        "  pred_delta.append(pred_new[i] - pred_old[i])"
      ],
      "execution_count": 0,
      "outputs": []
    },
    {
      "cell_type": "code",
      "metadata": {
        "id": "IPspREI2S7_r",
        "colab_type": "code",
        "outputId": "17408b31-e342-48f7-9fe6-f8feb82f9731",
        "colab": {
          "base_uri": "https://localhost:8080/",
          "height": 952
        }
      },
      "source": [
        "Pred_new"
      ],
      "execution_count": 0,
      "outputs": [
        {
          "output_type": "execute_result",
          "data": {
            "text/plain": [
              "array([[0.00203248, 0.00404928, 0.9939182 ],\n",
              "       [0.00727922, 0.00358726, 0.98913354],\n",
              "       [0.7721936 , 0.0139337 , 0.2138727 ],\n",
              "       [0.00891649, 0.00448649, 0.986597  ],\n",
              "       [0.1125346 , 0.00660644, 0.8808589 ],\n",
              "       [0.00478178, 0.12722215, 0.86799604],\n",
              "       [0.00129496, 0.00179181, 0.9969132 ],\n",
              "       [0.9057036 , 0.0124633 , 0.08183308],\n",
              "       [0.0044654 , 0.01962554, 0.97590905],\n",
              "       [0.01275224, 0.37084013, 0.61640763],\n",
              "       [0.00131232, 0.00184203, 0.99684566],\n",
              "       [0.00157802, 0.00203662, 0.99638534],\n",
              "       [0.06523793, 0.00728321, 0.9274789 ],\n",
              "       [0.0049958 , 0.01522104, 0.97978324],\n",
              "       [0.00574131, 0.00443773, 0.98982096],\n",
              "       [0.00687255, 0.39102003, 0.60210735],\n",
              "       [0.00370327, 0.02648717, 0.96980953],\n",
              "       [0.4538185 , 0.5200149 , 0.02616665],\n",
              "       [0.00597845, 0.89414316, 0.09987843],\n",
              "       [0.00557098, 0.21227232, 0.7821567 ],\n",
              "       [0.00246911, 0.00275852, 0.9947724 ],\n",
              "       [0.0138345 , 0.00573398, 0.9804315 ],\n",
              "       [0.99641466, 0.00144496, 0.00214028],\n",
              "       [0.99653745, 0.00132717, 0.00213536],\n",
              "       [0.9788658 , 0.01504812, 0.00608605],\n",
              "       [0.9936702 , 0.00241597, 0.0039138 ],\n",
              "       [0.9908352 , 0.00381392, 0.00535089],\n",
              "       [0.99080664, 0.00326382, 0.00592948],\n",
              "       [0.9839093 , 0.00546658, 0.0106241 ],\n",
              "       [0.78060657, 0.01258628, 0.20680715],\n",
              "       [0.98345435, 0.00465805, 0.01188755],\n",
              "       [0.9651136 , 0.00677279, 0.0281136 ],\n",
              "       [0.3471334 , 0.00445799, 0.6484086 ],\n",
              "       [0.9960854 , 0.0016397 , 0.00227486],\n",
              "       [0.9703579 , 0.00355378, 0.02608839],\n",
              "       [0.13482103, 0.01107593, 0.854103  ],\n",
              "       [0.00599374, 0.9904757 , 0.00353051],\n",
              "       [0.00191586, 0.9896975 , 0.00838658],\n",
              "       [0.9291923 , 0.06178744, 0.00902024],\n",
              "       [0.26015538, 0.72951996, 0.01032462],\n",
              "       [0.36211988, 0.6236394 , 0.01424073],\n",
              "       [0.24055268, 0.750287  , 0.00916029],\n",
              "       [0.01278337, 0.9841526 , 0.003064  ],\n",
              "       [0.11760683, 0.8728448 , 0.00954831],\n",
              "       [0.10767117, 0.8812528 , 0.01107599],\n",
              "       [0.00217144, 0.9885666 , 0.00926204],\n",
              "       [0.00230702, 0.9871459 , 0.01054701],\n",
              "       [0.9927698 , 0.00266026, 0.00456993],\n",
              "       [0.00191262, 0.9965049 , 0.00158248],\n",
              "       [0.00338391, 0.99305266, 0.00356337],\n",
              "       [0.0410355 , 0.82982755, 0.129137  ],\n",
              "       [0.09062817, 0.8946161 , 0.01475569],\n",
              "       [0.0458078 , 0.80870193, 0.14549027],\n",
              "       [0.00164791, 0.9965995 , 0.00175255],\n",
              "       [0.00889827, 0.9310496 , 0.06005207]], dtype=float32)"
            ]
          },
          "metadata": {
            "tags": []
          },
          "execution_count": 48
        }
      ]
    },
    {
      "cell_type": "code",
      "metadata": {
        "id": "jQLh1fA2cVQF",
        "colab_type": "code",
        "outputId": "bec3a638-6d58-457a-f169-f1658630209b",
        "colab": {
          "base_uri": "https://localhost:8080/",
          "height": 952
        }
      },
      "source": [
        "Pred_old"
      ],
      "execution_count": 0,
      "outputs": [
        {
          "output_type": "execute_result",
          "data": {
            "text/plain": [
              "array([[1.3854805e-03, 1.4774617e-03, 9.9713707e-01],\n",
              "       [1.0117523e-03, 1.3248584e-03, 9.9766338e-01],\n",
              "       [2.9079651e-03, 2.2302193e-03, 9.9486178e-01],\n",
              "       [1.4082204e-03, 1.8278309e-03, 9.9676394e-01],\n",
              "       [1.6231856e-03, 1.9362279e-03, 9.9644059e-01],\n",
              "       [1.2254277e-03, 1.7493755e-03, 9.9702519e-01],\n",
              "       [1.1799920e-03, 1.4283181e-03, 9.9739170e-01],\n",
              "       [3.5569761e-02, 9.7493092e-03, 9.5468098e-01],\n",
              "       [3.1336043e-03, 7.9622054e-03, 9.8890418e-01],\n",
              "       [1.7892765e-03, 2.5100240e-03, 9.9570066e-01],\n",
              "       [1.3854805e-03, 1.4774617e-03, 9.9713707e-01],\n",
              "       [1.0117523e-03, 1.3248584e-03, 9.9766338e-01],\n",
              "       [2.9079651e-03, 2.2302193e-03, 9.9486178e-01],\n",
              "       [1.4082204e-03, 1.8278309e-03, 9.9676394e-01],\n",
              "       [1.6231856e-03, 1.9362279e-03, 9.9644059e-01],\n",
              "       [1.2254277e-03, 1.7493755e-03, 9.9702519e-01],\n",
              "       [1.1799920e-03, 1.4283181e-03, 9.9739170e-01],\n",
              "       [3.5569761e-02, 9.7493092e-03, 9.5468098e-01],\n",
              "       [3.1336043e-03, 7.9622054e-03, 9.8890418e-01],\n",
              "       [1.7892765e-03, 2.5100240e-03, 9.9570066e-01],\n",
              "       [1.7181025e-03, 2.0850466e-03, 9.9619687e-01],\n",
              "       [1.0057823e-03, 1.9193310e-03, 9.9707484e-01],\n",
              "       [9.9510819e-01, 1.8259594e-03, 3.0657465e-03],\n",
              "       [9.9595463e-01, 1.7217669e-03, 2.3235942e-03],\n",
              "       [9.9510819e-01, 1.8259594e-03, 3.0657465e-03],\n",
              "       [9.9595463e-01, 1.7217669e-03, 2.3235942e-03],\n",
              "       [9.9510819e-01, 1.8259594e-03, 3.0657465e-03],\n",
              "       [9.9595463e-01, 1.7217669e-03, 2.3235942e-03],\n",
              "       [9.9726260e-01, 1.2140428e-03, 1.5233783e-03],\n",
              "       [9.7003227e-01, 5.3322855e-03, 2.4635507e-02],\n",
              "       [9.9176776e-01, 3.1889551e-03, 5.0432472e-03],\n",
              "       [9.9118304e-01, 3.5566376e-03, 5.2603288e-03],\n",
              "       [9.9802750e-01, 7.4436510e-04, 1.2280226e-03],\n",
              "       [9.9561691e-01, 1.7827221e-03, 2.6004734e-03],\n",
              "       [9.9689227e-01, 1.2624987e-03, 1.8452296e-03],\n",
              "       [7.7323711e-01, 2.1403381e-01, 1.2729074e-02],\n",
              "       [1.6927321e-03, 9.9604261e-01, 2.2646475e-03],\n",
              "       [1.7298197e-03, 9.9298108e-01, 5.2891402e-03],\n",
              "       [1.1806786e-03, 9.9647850e-01, 2.3409005e-03],\n",
              "       [1.4372765e-03, 9.9714655e-01, 1.4162309e-03],\n",
              "       [1.4643536e-03, 9.9735045e-01, 1.1850906e-03],\n",
              "       [1.3079736e-03, 9.9726897e-01, 1.4230949e-03],\n",
              "       [1.8583685e-03, 9.9632382e-01, 1.8177344e-03],\n",
              "       [2.0221511e-03, 9.9638724e-01, 1.5905730e-03],\n",
              "       [4.0278542e-03, 9.9326140e-01, 2.7108039e-03],\n",
              "       [1.6927321e-03, 9.9604261e-01, 2.2646475e-03],\n",
              "       [1.7298197e-03, 9.9298108e-01, 5.2891402e-03],\n",
              "       [1.1806786e-03, 9.9647850e-01, 2.3409005e-03],\n",
              "       [1.4372765e-03, 9.9714655e-01, 1.4162309e-03],\n",
              "       [1.4643536e-03, 9.9735045e-01, 1.1850906e-03],\n",
              "       [1.3079736e-03, 9.9726897e-01, 1.4230949e-03],\n",
              "       [1.8583685e-03, 9.9632382e-01, 1.8177344e-03],\n",
              "       [2.0221511e-03, 9.9638724e-01, 1.5905730e-03],\n",
              "       [4.0278542e-03, 9.9326140e-01, 2.7108039e-03],\n",
              "       [2.1795547e-03, 9.9624926e-01, 1.5712433e-03]], dtype=float32)"
            ]
          },
          "metadata": {
            "tags": []
          },
          "execution_count": 49
        }
      ]
    },
    {
      "cell_type": "code",
      "metadata": {
        "id": "wHeYgeqDcpdP",
        "colab_type": "code",
        "outputId": "242fef9d-04b1-4be2-b45c-1992dee5e275",
        "colab": {
          "base_uri": "https://localhost:8080/",
          "height": 952
        }
      },
      "source": [
        "pred_delta"
      ],
      "execution_count": 0,
      "outputs": [
        {
          "output_type": "execute_result",
          "data": {
            "text/plain": [
              "[0.0006469997,\n",
              " 0.0062674712,\n",
              " 0.7692856,\n",
              " 0.0075082732,\n",
              " 0.11091142,\n",
              " 0.0035563535,\n",
              " 0.0001149649,\n",
              " 0.8701338,\n",
              " 0.0013317978,\n",
              " 0.010962961,\n",
              " 0.0003645725,\n",
              " 0.0007117655,\n",
              " 0.005052993,\n",
              " 0.013393214,\n",
              " 0.0025015022,\n",
              " 0.38927066,\n",
              " 0.025058856,\n",
              " 0.5102656,\n",
              " 0.88618094,\n",
              " 0.20976229,\n",
              " 0.0006734743,\n",
              " 0.0038146484,\n",
              " -0.00038100418,\n",
              " -0.00039460126,\n",
              " 0.013222156,\n",
              " 0.0006942038,\n",
              " 0.0022851413,\n",
              " 0.0036058815,\n",
              " 0.009100723,\n",
              " 0.18217164,\n",
              " 0.0068443003,\n",
              " 0.02285327,\n",
              " 0.64718056,\n",
              " -0.00032561668,\n",
              " 0.024243161,\n",
              " 0.841374,\n",
              " 0.004301003,\n",
              " 0.00018604274,\n",
              " 0.92801166,\n",
              " 0.2587181,\n",
              " 0.36065552,\n",
              " 0.2392447,\n",
              " 0.010925005,\n",
              " 0.11558467,\n",
              " 0.10364332,\n",
              " 0.0069973934,\n",
              " 0.0052578673,\n",
              " 0.0022290314,\n",
              " 0.00016624876,\n",
              " 0.002378278,\n",
              " 0.1277139,\n",
              " 0.012937957,\n",
              " 0.1438997,\n",
              " -0.0009582578,\n",
              " 0.05848083]"
            ]
          },
          "metadata": {
            "tags": []
          },
          "execution_count": 50
        }
      ]
    },
    {
      "cell_type": "code",
      "metadata": {
        "id": "0byXlehgT07U",
        "colab_type": "code",
        "colab": {}
      },
      "source": [
        "url = 'https://raw.githubusercontent.com/fy164251/text_style_transfer/master/outputs/arrow_plot_results.csv'\n",
        "df = pd.read_csv(url)\n",
        "df['donor_authorship_score'] = pred_old\n",
        "df['style_authorship_score'] = pred_new\n",
        "df['authorship_delta'] = pred_delta"
      ],
      "execution_count": 0,
      "outputs": []
    },
    {
      "cell_type": "code",
      "metadata": {
        "id": "idWN5M4qT74-",
        "colab_type": "code",
        "colab": {}
      },
      "source": [
        "# df.to_csv('./gdrive/My Drive/DL/Style/all_scores.csv')"
      ],
      "execution_count": 0,
      "outputs": []
    },
    {
      "cell_type": "code",
      "metadata": {
        "id": "0KxX5ljnUVgL",
        "colab_type": "code",
        "outputId": "b111eacd-be73-416c-815d-4b1c596e6d1a",
        "colab": {
          "base_uri": "https://localhost:8080/",
          "height": 361
        }
      },
      "source": [
        "from sklearn.metrics import roc_curve, auc\n",
        "from sklearn.preprocessing import label_binarize\n",
        "from sklearn.multiclass import OneVsRestClassifier\n",
        "from scipy import interp\n",
        "from itertools import cycle\n",
        "\n",
        "import matplotlib.pyplot as plt\n",
        "%matplotlib inline\n",
        "plt.style.use('seaborn')\n",
        "\n",
        "pred = model.predict(X_test)\n",
        "\n",
        "AUCfig = plt.figure()\n",
        "\n",
        "# Binarize the multiclass labels\n",
        "Y_bi = label_binarize(y, classes=['Austen', 'Dumas', 'Nabokov'])\n",
        "n_classes = Y_bi.shape[1]\n",
        "\n",
        "fpr = dict()\n",
        "tpr = dict()\n",
        "roc_auc = dict()\n",
        "for i in range(n_classes):\n",
        "    fpr[i], tpr[i], _ = roc_curve(y_test[:, i], pred[:, i])\n",
        "    roc_auc[i] = auc(fpr[i], tpr[i])\n",
        "\n",
        "fpr[\"micro\"], tpr[\"micro\"], _ = roc_curve(y_test.ravel(), pred.ravel())\n",
        "roc_auc[\"micro\"] = auc(fpr[\"micro\"], tpr[\"micro\"])\n",
        "\n",
        "all_fpr = np.unique(np.concatenate([fpr[i] for i in range(n_classes)]))\n",
        "\n",
        "mean_tpr = np.zeros_like(all_fpr)\n",
        "for i in range(n_classes):\n",
        "    mean_tpr += interp(all_fpr, fpr[i], tpr[i])\n",
        "\n",
        "mean_tpr /= n_classes\n",
        "\n",
        "fpr[\"macro\"] = all_fpr\n",
        "tpr[\"macro\"] = mean_tpr\n",
        "roc_auc[\"macro\"] = auc(fpr[\"macro\"], tpr[\"macro\"])\n",
        "\n",
        "lw = 2\n",
        "plt.plot(fpr[\"micro\"], tpr[\"micro\"],\n",
        "         label='micro-average ROC curve (area = {0:0.2f})'\n",
        "               ''.format(roc_auc[\"micro\"]),\n",
        "         color='deeppink', linestyle=':', linewidth=4)\n",
        "\n",
        "plt.plot(fpr[\"macro\"], tpr[\"macro\"],\n",
        "         label='macro-average ROC curve (area = {0:0.2f})'\n",
        "               ''.format(roc_auc[\"macro\"]),\n",
        "         color='navy', linestyle=':', linewidth=4)\n",
        "\n",
        "colors = cycle(['aqua', 'darkorange', 'cornflowerblue', 'red', 'green'])\n",
        "for i, color in zip(range(n_classes), colors):\n",
        "    plt.plot(fpr[i], tpr[i], color=color, lw=lw,\n",
        "             label='ROC curve of class {0} (area = {1:0.3f})'\n",
        "             ''.format(i, roc_auc[i]))\n",
        "\n",
        "plt.plot([0, 1], [0, 1], 'k--', lw=lw)\n",
        "plt.xlim([0.0, 1.0])\n",
        "plt.ylim([0.0, 1.05])\n",
        "plt.xlabel('False Positive Rate')\n",
        "plt.ylabel('True Positive Rate')\n",
        "# plt.title('ROC curve for each class')\n",
        "plt.legend(loc=\"lower right\")\n",
        "plt.show()\n",
        "\n",
        "# plt.savefig('Arrows.pdf')\n",
        "# files.download('Arrows.pdf')"
      ],
      "execution_count": 13,
      "outputs": [
        {
          "output_type": "display_data",
          "data": {
            "image/png": "[encoded data removed]",
            "text/plain": [
              "<Figure size 576x396 with 1 Axes>"
            ]
          },
          "metadata": {
            "tags": []
          }
        }
      ]
    },
    {
      "cell_type": "code",
      "metadata": {
        "colab_type": "code",
        "id": "kSbfQIVmzD5P",
        "colab": {}
      },
      "source": [
        "from sklearn.metrics import confusion_matrix\n",
        "from sklearn.preprocessing import label_binarize\n",
        "from string import ascii_uppercase\n",
        "import seaborn as sn"
      ],
      "execution_count": 0,
      "outputs": []
    },
    {
      "cell_type": "code",
      "metadata": {
        "colab_type": "code",
        "outputId": "72291a7c-53f0-4182-b950-9384b72b1ebf",
        "id": "tPXPJseqzD5V",
        "colab": {
          "base_uri": "https://localhost:8080/",
          "height": 347
        }
      },
      "source": [
        "# Make a confusion matrix at first\n",
        "matrix = confusion_matrix(y_test.argmax(axis=1), pred.argmax(axis=1))\n",
        "\n",
        "# Convert the matrix into a data frame as input for the heatmap\n",
        "col1 = ['Real: Austen', 'Dumas', 'Nabokov']\n",
        "col2 = ['Austen', 'Dumas', 'Pred: Nabokov']\n",
        "df_cm = pd.DataFrame(matrix, index=col2, columns=col1)\n",
        "ax = sn.heatmap(df_cm, cmap='Greens', annot=True)"
      ],
      "execution_count": 16,
      "outputs": [
        {
          "output_type": "display_data",
          "data": {
            "image/png": "[encoded data removed]",
            "text/plain": [
              "<Figure size 576x396 with 2 Axes>"
            ]
          },
          "metadata": {
            "tags": []
          }
        }
      ]
    },
    {
      "cell_type": "code",
      "metadata": {
        "id": "9bvUsLAzabQU",
        "colab_type": "code",
        "colab": {}
      },
      "source": [
        "url = 'https://raw.githubusercontent.com/fy164251/text_style_transfer/master/outputs/all_scores.csv'\n",
        "df = pd.read_csv(url).set_index('Unnamed: 0')"
      ],
      "execution_count": 0,
      "outputs": []
    },
    {
      "cell_type": "code",
      "metadata": {
        "id": "PoYs6lLFID3R",
        "colab_type": "code",
        "outputId": "f842f7bd-16e7-4e25-ebf1-dd226a7f77c8",
        "colab": {
          "base_uri": "https://localhost:8080/",
          "height": 289
        }
      },
      "source": [
        "import matplotlib.pyplot as plt\n",
        "import seaborn as sns\n",
        "sns.set()\n",
        "%matplotlib inline\n",
        "\n",
        "x = df['donor_naturalness_score'].values\n",
        "y = df['style_naturalness_score'].values\n",
        "\n",
        "u = df['naturalness_delta'].values\n",
        "v = df['authorship_delta'].values\n",
        "\n",
        "#plt.axis('equal')\n",
        "plt.quiver(x,u,y,v)\n",
        "plt.xlabel('Naturalness')\n",
        "plt.ylabel('Style Shift')\n",
        "plt.xlim(left=0.89, right=1.01)\n",
        "plt.ylim(top=0.04, bottom=0)\n",
        "\n",
        "plt.show()"
      ],
      "execution_count": 0,
      "outputs": [
        {
          "output_type": "display_data",
          "data": {
            "image/png": "[encoded data removed]",
            "text/plain": [
              "<Figure size 432x288 with 1 Axes>"
            ]
          },
          "metadata": {
            "tags": []
          }
        }
      ]
    },
    {
      "cell_type": "code",
      "metadata": {
        "id": "R0us2zadbdKG",
        "colab_type": "code",
        "outputId": "65236382-8f96-4f6b-a66d-be6ae2c5972a",
        "colab": {
          "base_uri": "https://localhost:8080/",
          "height": 289
        }
      },
      "source": [
        "import matplotlib.pyplot as plt\n",
        "import seaborn as sns\n",
        "sns.set()\n",
        "%matplotlib inline\n",
        "\n",
        "\n",
        "x = df['donor_naturalness_score'].values\n",
        "y = df['donor_authorship_score'].values\n",
        "\n",
        "u = - df['naturalness_delta'].values\n",
        "v = df['authorship_delta'].values\n",
        "\n",
        "Arrows = plt.figure()\n",
        "for i, j, k, l in zip(x, y, u, v): \n",
        "  plt.arrow(i, j, k, l, head_width=0.02, head_length=0.04)\n",
        "plt.xlabel('Naturalness Score')\n",
        "plt.ylabel('Style Score')\n",
        "plt.xlim(left=0.1, right=1.05)\n",
        "plt.ylim(top=1, bottom=-0.1)\n",
        "\n",
        "\n",
        "from google.colab import files\n",
        "\n",
        "plt.savefig('Arrows.pdf')\n",
        "files.download('Arrows.pdf')"
      ],
      "execution_count": 0,
      "outputs": [
        {
          "output_type": "display_data",
          "data": {
            "image/png": "[encoded data removed]",
            "text/plain": [
              "<Figure size 432x288 with 1 Axes>"
            ]
          },
          "metadata": {
            "tags": []
          }
        }
      ]
    },
    {
      "cell_type": "code",
      "metadata": {
        "id": "W8yKRNf6C5eK",
        "colab_type": "code",
        "outputId": "a951cf2d-df1f-4ef5-e249-fac5eae68fa5",
        "colab": {
          "base_uri": "https://localhost:8080/",
          "height": 34
        }
      },
      "source": [
        "from google.colab import files\n",
        "plt.savefig(\"abc.png\")\n",
        "files.download(\"abc.png\") \n",
        "\n",
        "plt.savefig(('./gdrive/My Drive/DL/Style/arrows.pdf'))"
      ],
      "execution_count": 0,
      "outputs": [
        {
          "output_type": "display_data",
          "data": {
            "text/plain": [
              "<Figure size 432x288 with 0 Axes>"
            ]
          },
          "metadata": {
            "tags": []
          }
        }
      ]
    },
    {
      "cell_type": "markdown",
      "metadata": {
        "id": "VGlExpM3wJAF",
        "colab_type": "text"
      },
      "source": [
        "### Appendix: 7 Examples"
      ]
    },
    {
      "cell_type": "code",
      "metadata": {
        "id": "FP-xHdpvHhBN",
        "colab_type": "code",
        "colab": {}
      },
      "source": [
        "txt = [\"She sat at the window of the train, her head thrown back, one leg stretched across to the empty seat before her. The window frame trembled with the speed of the motion, the pane hung over empty darkness, and dots of light slashed across the glass as luminous streaks, once in a while. Her leg, sculptured by the tight sheen of the stocking, its long line runningstraight, over an arched instep, to the tip of a foot in a high-heeled pump, had a feminine elegance that seemed out of place in the dusty train car and oddly incongruous with the rest of her. She wore a battered camel's hair coat that had been expensive, wrapped shapelessly about her slender, nervous body.  The coat collar was raised to the slanting brim of her hat. A sweep of brown hair fell back, almost touching the line of her shoulders. Her face was made of angular planes, the shape of her mouth clear-cut, a sensual mouth held closed with inflexible precision. She kept her hands in the coat pockets, her posture taut, as if she resented immobility, and unfeminine, as if she were unconscious of her own body and that it was a woman's body. She sat listening to the music. It was a symphony of triumph. The notes flowed up, they spoke of rising and they were the rising itself, they were the essence and the form of upward motion, they seemed to embody every human act and thought that had ascent as its motive. It was a sunburst of sound, breaking out of hiding and spreading open. It had the freedom of release and the tension of purpose. It swept space clean, and left nothing but the joy of an unobstructed effort. Only a faint echo within the sounds spoke of that from which the music had escaped, but spoke in laughing astonishment at the discovery that there was no ugliness or pain, and there never had had to be. It was the song of an immense deliverance.\", \n",
        "       \"She sat at the window of the train, her head thrown back, one leg stretched across to the empty seat before her. The window frame trembled with the speed of the motion, the blackness of space, and dots of light slashed across the glass as luminous streaks, once in a while. Her leg, sculptured by the tight sheen of the stocking, its long line running straight, over an arched instep, to the tip of a foot in a high-heeled pump, had a feminine elegance that seemed out of place in the dusty train car and oddly relatable in the low-slung ranks of her. She wore a battered camel's hair coat that had been expensive, wrapped shapelessly about her slender, nervous body. The coat was clean-cut too, worn into the sleek collar that clung to her neck. A sweep of brown hair fell back, down, down, over her shoulders. Her forehead, above the sun-dappled asphalt, was smudgy and plump, and the wing of her nose, a glossy dark-orange, was exactly shaped as her lips, small stern Plebeian nose thrust below, with downward curved mouth. Her long legs were free, her pink mane kept catching the rays, and the muscles of her hands continued to embrace, as if she suddenly slipped into a woman's body. The silence got broken. It was a symphony of triumph. The notes flowed up, they spoke of rising and they were the rising itself, they were the essence and the form of upward motion, they seemed to embody every human act and thought that had ascent as its motive. It was a sunburst of sound, breaking out of hiding and spreading open. It had the freedom of release and the tension of purpose.\",\n",
        "       \"She sat at the window of the train for half a minute, and as she looked up, she stretched one leg across to the empty seat in front of her. The window frame trembled with the speed of the motion, the unnerveness of the table amidst the scattered glasses, and the distressing tones of the glass pressed against the glass as luminous streaks obtruded the view. Her leg, sculptured by the tight sheen of the stocking, its long line running straight, from the ankle to the fore-foot, to the tip of a foot in a glide, had a feminine elegance that seemed out of place in the dusty train car and oddly incongruous with the rest of her. She was a scantily shaven woman: her hair was very short but expensively cut, her face was a little hoary and attached to a rather pensive, nervous body. The coat collar was raised to the slanting yellow humbug of her hat. A sweep of brown hair fell back, affording a quick view of her face. Her hair was striking, as if unsubdued by ill-timed gravity, and almost turned into a veil against her face, her sensual mouth held closed with inflexible precision. She put one hand tied behind her face, and her heart leaped against the stomach with sudden feeling, as the cottony, trembling hand was about to embrace body her woman's body. She was in a reverie, as he entered the room. It was a symphony of triumph. The Tilneys were at the instrument; they determined, boldly among themselves they were the rising stars, they were the lights of the chambers, where the utmost importance was the form of upward motion, the perfection they encumbered, to examine and express themselves in all their grandeur as if they had been conscious of it. It was a sunburst of sound, breaking out of hiding and spreading over the whole room. It had the freedom of release and the tension of purpose. It swept space clean. There was a feeling from which the music had escaped, and spoke in laughing astonishment at the discovery that there was no ugliness or pain, and there never had had to be. It was the sound of a great pianoforte.\",\n",
        "       \"Elizabeth listened in silence, but was not convinced; their behaviour at the assembly had not been calculated to please in general; and with more quickness of observation and less pliancy of temper than her sister, and with a judgement too unassailed by any attention to herself, she was very little disposed to approve them. They were in fact very fine ladies; not deficient in good humour when they were pleased, nor in the power of making themselves agreeable when they chose it, but proud and conceited. They were rather handsome, had been educated in one of the first private seminaries in town, had a fortune of twenty thousand pounds, were in the habit of spending more than they ought, and of associating with people of rank, and were therefore in every respect entitled to think well of themselves, and meanly of others. They were of a respectable family in the north of England; a circumstance more deeply impressed on their memories than that their brother's fortune and their own had been acquired by trade.\",\n",
        "       \"Elizabeth listened in silence, but then understood that this was a deliberate lie; their behaviour at the assembly had not been calculated to please in general; and with more quickness of observation and less pliancy of temper than her sister, she discerned in her a deceptive, though quite reasonable, form of reflection, and not only because she was concealing her ineptitude to keep up with the jol. They were in fact very fine ladies; not deficient in good humour when they were pleased, but parched; not easily swayed by carnal particularities; not indifferent minds when it came to but proud and conceited. Their meeting with everybody was very warm and well-wishing; and their smiling faces, had been educated in one of the first private seminaries in town, had a fortune of twenty thousand pounds, were in the habit of spending more than they ought, and of associating with people of rank; and were therefore in every respect entitled to think well of themselves, and meanly of others. The greater part of their city consisted of solidly cottoned Estotians; a circumstance more deeply impressed on their memories than that their brother's fortune and their own had been acquired by trade.\",\n",
        "       \"In the meanwhile, Monsieur continued his route with an air at once so melancholy and so majestic, that he certainly would have attracted the attention of spectators, if spectators there had been; but the good citizens of Blois could not pardon Monsieur for having chosen their gay city for an abode in which to indulge melancholy at his ease, and as often as they caught a glimpse of the illustrious ennuye, they stole away gaping, or drew back their heads into the interior of their dwellings, to escape the soporific influence of that long pale face, of those watery eyes, and that languid address; so that the worthy prince was almost certain to find the streets deserted whenever he chanced to pass through them.\", \n",
        "       \"In the meanwhile, Monsieur continued his route with an air at once ardent and melancholy, and I suppose it gave him a thrill of recognition that I doubt it would be in the course of the of spectators; but the good citizens of Blois could not pardon Monsieur for having chosen their gay city for an abode in which to indulge melancholy and oppress him, and as often as they caught a glimpse of his manipulation, they stole away gaping, or drew back their heads into the interior deals of citizens, to escape the soporific influence of that long-dressed hoodlum with purplish wrinkles and flaming cheekbones, and blue eyes, and that languid address; so that the worthy prince was almost certain to find the streets deserted whenever he chanced to glance at them.\"]\n",
        "\n",
        "label = ['orig', 'Nabokov', 'Austen', \n",
        "         'orig', 'Nabokov',\n",
        "         'orig', 'Nabokov']\n",
        "\n",
        "df = pd.DataFrame({'text': txt, \n",
        "                   'label': label})\n",
        "# df.to_csv('./gdrive/My Drive/DL/Style/final_examples.csv')"
      ],
      "execution_count": 0,
      "outputs": []
    },
    {
      "cell_type": "code",
      "metadata": {
        "id": "BlHdkeqbzfRG",
        "colab_type": "code",
        "colab": {
          "base_uri": "https://localhost:8080/",
          "height": 374
        },
        "outputId": "c7a83e45-f533-4ce4-e8f6-5a6f2ccf02f3"
      },
      "source": [
        "import numpy as np\n",
        "import pandas as pd\n",
        "import matplotlib.pyplot as plt\n",
        "import urllib\n",
        "import tensorflow as tf\n",
        "%tensorflow_version 2.x\n",
        "import tensorflow_hub as hub\n",
        "from tensorflow import keras\n",
        "import nltk\n",
        "from nltk.tag.stanford import StanfordNERTagger\n",
        "\n",
        "!wget 'https://nlp.stanford.edu/software/stanford-ner-2018-10-16.zip'\n",
        "!unzip stanford-ner-2018-10-16.zip\n",
        "\n",
        "nltk.download('punkt')\n",
        "\n",
        "st = StanfordNERTagger('/content/stanford-ner-2018-10-16/classifiers/english.all.3class.distsim.crf.ser.gz',\n",
        "                       '/content/stanford-ner-2018-10-16/stanford-ner.jar',\n",
        "                       encoding='utf-8')\n",
        "\n",
        "# def mask_names(text, filter):\n",
        "#   classified_text = word_tokenize(text) # text.split()\n",
        "#   l = ''\n",
        "#   for i in classified_text:\n",
        "#     if str(i[0]).lower() in filter:\n",
        "#       l += ' ' + '<MASK>'\n",
        "#     elif i in string.punctuation: \n",
        "#       l += i\n",
        "#     else:\n",
        "#       l += ' ' + i\n",
        "#   return l\n",
        "\n",
        "names_Dumas = ['buckingham', 'comte', 'boxtel', 'montalais', 'van baerle', \n",
        "               'baerle', 'malicorne', 'louis', 'chicot', 'mazarin', \n",
        "               'fouquet', 'guiche', 'rosa', 'd artagnan', 'artagnan', \n",
        "               'raoul', 'athos', 'aramis', 'cornelius', 'porthos']\n",
        "\n",
        "names_Nabokov = ['dreyer', 'fyodor', 'martha', 'chernyshevski', 'sebastian',\n",
        "                 'franz', 'lolita', 'albinus', 'cincinnatus', 'van', \n",
        "                 'ada', 'martin', 'krug', 'luzhin']\n",
        "\n",
        "names_Austen = ['lucy', 'wentworth', 'knightley', 'morland', 'wickham', \n",
        "                'tilney', 'mansfield', 'isabella', 'henry', 'william', \n",
        "                'elliot', 'darcy', 'willoughby', 'edward', 'crawford', \n",
        "                'edmund', 'anne', 'jane', 'harriet', 'marianne', \n",
        "                'elizabeth', 'emma', 'elinor', 'catherine', 'fanny']\n",
        "\n",
        "NAMES = names_Dumas + names_Nabokov + names_Austen\n",
        "\n",
        "from nltk.tokenize import word_tokenize\n",
        "import string\n",
        "\n",
        "def mask_names(text, filter):\n",
        "  classified_text = st.tag(word_tokenize(text)) # text.split()\n",
        "  l = ''\n",
        "  for i in classified_text:\n",
        "    if i[1] == 'PERSON' or str(i[0]).lower() in filter:\n",
        "      l += ' ' + '<MASK>'\n",
        "    elif str(i[0]) in string.punctuation: \n",
        "      l += i[0]\n",
        "    else:\n",
        "      l += ' ' + i[0]\n",
        "  return l"
      ],
      "execution_count": 24,
      "outputs": [
        {
          "output_type": "stream",
          "text": [
            "TensorFlow is already loaded. Please restart the runtime to change versions.\n",
            "--2019-12-08 11:35:23--  https://nlp.stanford.edu/software/stanford-ner-2018-10-16.zip\n",
            "Resolving nlp.stanford.edu (nlp.stanford.edu)... 171.64.67.140\n",
            "Connecting to nlp.stanford.edu (nlp.stanford.edu)|171.64.67.140|:443... connected.\n",
            "HTTP request sent, awaiting response... 200 OK\n",
            "Length: 180358328 (172M) [application/zip]\n",
            "Saving to: ‘stanford-ner-2018-10-16.zip.4’\n",
            "\n",
            "stanford-ner-2018-1 100%[===================>] 172.00M  53.4MB/s    in 3.5s    \n",
            "\n",
            "2019-12-08 11:35:27 (48.7 MB/s) - ‘stanford-ner-2018-10-16.zip.4’ saved [180358328/180358328]\n",
            "\n",
            "Archive:  stanford-ner-2018-10-16.zip\n",
            "  End-of-central-directory signature not found.  Either this file is not\n",
            "  a zipfile, or it constitutes one disk of a multi-part archive.  In the\n",
            "  latter case the central directory and zipfile comment will be found on\n",
            "  the last disk(s) of this archive.\n",
            "unzip:  cannot find zipfile directory in one of stanford-ner-2018-10-16.zip or\n",
            "        stanford-ner-2018-10-16.zip.zip, and cannot find stanford-ner-2018-10-16.zip.ZIP, period.\n",
            "[nltk_data] Downloading package punkt to /root/nltk_data...\n",
            "[nltk_data]   Package punkt is already up-to-date!\n"
          ],
          "name": "stdout"
        }
      ]
    },
    {
      "cell_type": "code",
      "metadata": {
        "id": "khKpnTzNQ61i",
        "colab_type": "code",
        "colab": {
          "base_uri": "https://localhost:8080/",
          "height": 136
        },
        "outputId": "bbadba07-9aec-4509-bd7e-8892732656b2"
      },
      "source": [
        "l = []\n",
        "for i in txt:\n",
        "  l.append(mask_names(i, NAMES))\n",
        "  print(len(word_tokenize(i)))"
      ],
      "execution_count": 27,
      "outputs": [
        {
          "output_type": "stream",
          "text": [
            "381\n",
            "331\n",
            "418\n",
            "194\n",
            "223\n",
            "136\n",
            "144\n"
          ],
          "name": "stdout"
        }
      ]
    },
    {
      "cell_type": "code",
      "metadata": {
        "id": "UpghFrylSfpi",
        "colab_type": "code",
        "colab": {
          "base_uri": "https://localhost:8080/",
          "height": 85
        },
        "outputId": "2c3b3261-7780-4c81-d609-1de6890d2eac"
      },
      "source": [
        "model = Embeddings()\n",
        "\n",
        "l_text = []\n",
        "for sentence in tqdm(l):\n",
        "    l_text.append(model.sentence2vec(sentence, layers=model.LAST_LAYER))"
      ],
      "execution_count": 28,
      "outputs": [
        {
          "output_type": "stream",
          "text": [
            "100%|██████████| 231508/231508 [00:00<00:00, 2759976.49B/s]\n",
            "100%|██████████| 313/313 [00:00<00:00, 108992.71B/s]\n",
            "100%|██████████| 440473133/440473133 [00:06<00:00, 69003983.59B/s]\n",
            "100%|██████████| 7/7 [00:06<00:00,  1.29it/s]\n"
          ],
          "name": "stderr"
        }
      ]
    },
    {
      "cell_type": "code",
      "metadata": {
        "id": "ovecTYc9SgdC",
        "colab_type": "code",
        "colab": {
          "base_uri": "https://localhost:8080/",
          "height": 136
        },
        "outputId": "44eff3b6-a971-4227-fb85-8cde4bf7c9b3"
      },
      "source": [
        "model = load_model('./gdrive/My Drive/DL/Style/DistilBERT.h5')\n",
        "pred = model.predict(pd.DataFrame(l_text))\n",
        "pred"
      ],
      "execution_count": 34,
      "outputs": [
        {
          "output_type": "execute_result",
          "data": {
            "text/plain": [
              "array([[0.01131631, 0.0077914 , 0.98089224],\n",
              "       [0.00872069, 0.00714286, 0.98413646],\n",
              "       [0.0506387 , 0.01011489, 0.9392464 ],\n",
              "       [0.98696554, 0.00733038, 0.0057041 ],\n",
              "       [0.9790092 , 0.01385594, 0.00713488],\n",
              "       [0.00963072, 0.9838552 , 0.00651407],\n",
              "       [0.00877737, 0.9843924 , 0.00683032]], dtype=float32)"
            ]
          },
          "metadata": {
            "tags": []
          },
          "execution_count": 34
        }
      ]
    },
    {
      "cell_type": "code",
      "metadata": {
        "id": "y4xFPuyqUWmm",
        "colab_type": "code",
        "colab": {
          "base_uri": "https://localhost:8080/",
          "height": 34
        },
        "outputId": "0f4571eb-1855-473e-99d5-8b056e2a5306"
      },
      "source": [
        "0.00683032 - 0.00651407"
      ],
      "execution_count": 37,
      "outputs": [
        {
          "output_type": "execute_result",
          "data": {
            "text/plain": [
              "0.0003162499999999997"
            ]
          },
          "metadata": {
            "tags": []
          },
          "execution_count": 37
        }
      ]
    },
    {
      "cell_type": "code",
      "metadata": {
        "id": "U-mIOP0RVYqa",
        "colab_type": "code",
        "colab": {}
      },
      "source": [
        ""
      ],
      "execution_count": 0,
      "outputs": []
    }
  ]
}